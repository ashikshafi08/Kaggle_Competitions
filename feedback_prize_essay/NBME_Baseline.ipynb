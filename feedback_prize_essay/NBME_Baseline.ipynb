{
  "nbformat": 4,
  "nbformat_minor": 0,
  "metadata": {
    "colab": {
      "name": "NBME_Baseline.ipynb",
      "provenance": [],
      "authorship_tag": "ABX9TyOv1N3BSyizOMAw2sifmar7",
      "include_colab_link": true
    },
    "kernelspec": {
      "name": "python3",
      "display_name": "Python 3"
    },
    "language_info": {
      "name": "python"
    },
    "accelerator": "GPU",
    "widgets": {
      "application/vnd.jupyter.widget-state+json": {
        "5fe929371d0842f3a7b33e33daf9abb7": {
          "model_module": "@jupyter-widgets/controls",
          "model_name": "HBoxModel",
          "model_module_version": "1.5.0",
          "state": {
            "_view_name": "HBoxView",
            "_dom_classes": [],
            "_model_name": "HBoxModel",
            "_view_module": "@jupyter-widgets/controls",
            "_model_module_version": "1.5.0",
            "_view_count": null,
            "_view_module_version": "1.5.0",
            "box_style": "",
            "layout": "IPY_MODEL_9f773c54c8874856b2d218eea13bebfb",
            "_model_module": "@jupyter-widgets/controls",
            "children": [
              "IPY_MODEL_2e702e77ea464b86bb9a714ad26cefbc",
              "IPY_MODEL_594b34dfe5e446e2ab183d7bcda455a0",
              "IPY_MODEL_c763b57920c842f4924b4df42c9d02d8"
            ]
          }
        },
        "9f773c54c8874856b2d218eea13bebfb": {
          "model_module": "@jupyter-widgets/base",
          "model_name": "LayoutModel",
          "model_module_version": "1.2.0",
          "state": {
            "_view_name": "LayoutView",
            "grid_template_rows": null,
            "right": null,
            "justify_content": null,
            "_view_module": "@jupyter-widgets/base",
            "overflow": null,
            "_model_module_version": "1.2.0",
            "_view_count": null,
            "flex_flow": null,
            "width": null,
            "min_width": null,
            "border": null,
            "align_items": null,
            "bottom": null,
            "_model_module": "@jupyter-widgets/base",
            "top": null,
            "grid_column": null,
            "overflow_y": null,
            "overflow_x": null,
            "grid_auto_flow": null,
            "grid_area": null,
            "grid_template_columns": null,
            "flex": null,
            "_model_name": "LayoutModel",
            "justify_items": null,
            "grid_row": null,
            "max_height": null,
            "align_content": null,
            "visibility": null,
            "align_self": null,
            "height": null,
            "min_height": null,
            "padding": null,
            "grid_auto_rows": null,
            "grid_gap": null,
            "max_width": null,
            "order": null,
            "_view_module_version": "1.2.0",
            "grid_template_areas": null,
            "object_position": null,
            "object_fit": null,
            "grid_auto_columns": null,
            "margin": null,
            "display": null,
            "left": null
          }
        },
        "2e702e77ea464b86bb9a714ad26cefbc": {
          "model_module": "@jupyter-widgets/controls",
          "model_name": "HTMLModel",
          "model_module_version": "1.5.0",
          "state": {
            "_view_name": "HTMLView",
            "style": "IPY_MODEL_921545a978e74790910b639ea5022705",
            "_dom_classes": [],
            "description": "",
            "_model_name": "HTMLModel",
            "placeholder": "​",
            "_view_module": "@jupyter-widgets/controls",
            "_model_module_version": "1.5.0",
            "value": "Downloading: 100%",
            "_view_count": null,
            "_view_module_version": "1.5.0",
            "description_tooltip": null,
            "_model_module": "@jupyter-widgets/controls",
            "layout": "IPY_MODEL_2b53faa302044bbfbea60dc08e91b44b"
          }
        },
        "594b34dfe5e446e2ab183d7bcda455a0": {
          "model_module": "@jupyter-widgets/controls",
          "model_name": "FloatProgressModel",
          "model_module_version": "1.5.0",
          "state": {
            "_view_name": "ProgressView",
            "style": "IPY_MODEL_8fc042bf8909479f81c9952ec7535028",
            "_dom_classes": [],
            "description": "",
            "_model_name": "FloatProgressModel",
            "bar_style": "success",
            "max": 694,
            "_view_module": "@jupyter-widgets/controls",
            "_model_module_version": "1.5.0",
            "value": 694,
            "_view_count": null,
            "_view_module_version": "1.5.0",
            "orientation": "horizontal",
            "min": 0,
            "description_tooltip": null,
            "_model_module": "@jupyter-widgets/controls",
            "layout": "IPY_MODEL_964fc6836dff46b2bb73448aecdf12e8"
          }
        },
        "c763b57920c842f4924b4df42c9d02d8": {
          "model_module": "@jupyter-widgets/controls",
          "model_name": "HTMLModel",
          "model_module_version": "1.5.0",
          "state": {
            "_view_name": "HTMLView",
            "style": "IPY_MODEL_62f14a62c36f4a43850b1a8e15d82548",
            "_dom_classes": [],
            "description": "",
            "_model_name": "HTMLModel",
            "placeholder": "​",
            "_view_module": "@jupyter-widgets/controls",
            "_model_module_version": "1.5.0",
            "value": " 694/694 [00:00&lt;00:00, 15.5kB/s]",
            "_view_count": null,
            "_view_module_version": "1.5.0",
            "description_tooltip": null,
            "_model_module": "@jupyter-widgets/controls",
            "layout": "IPY_MODEL_167e480a0fa54ed69ffb18889452c1ef"
          }
        },
        "921545a978e74790910b639ea5022705": {
          "model_module": "@jupyter-widgets/controls",
          "model_name": "DescriptionStyleModel",
          "model_module_version": "1.5.0",
          "state": {
            "_view_name": "StyleView",
            "_model_name": "DescriptionStyleModel",
            "description_width": "",
            "_view_module": "@jupyter-widgets/base",
            "_model_module_version": "1.5.0",
            "_view_count": null,
            "_view_module_version": "1.2.0",
            "_model_module": "@jupyter-widgets/controls"
          }
        },
        "2b53faa302044bbfbea60dc08e91b44b": {
          "model_module": "@jupyter-widgets/base",
          "model_name": "LayoutModel",
          "model_module_version": "1.2.0",
          "state": {
            "_view_name": "LayoutView",
            "grid_template_rows": null,
            "right": null,
            "justify_content": null,
            "_view_module": "@jupyter-widgets/base",
            "overflow": null,
            "_model_module_version": "1.2.0",
            "_view_count": null,
            "flex_flow": null,
            "width": null,
            "min_width": null,
            "border": null,
            "align_items": null,
            "bottom": null,
            "_model_module": "@jupyter-widgets/base",
            "top": null,
            "grid_column": null,
            "overflow_y": null,
            "overflow_x": null,
            "grid_auto_flow": null,
            "grid_area": null,
            "grid_template_columns": null,
            "flex": null,
            "_model_name": "LayoutModel",
            "justify_items": null,
            "grid_row": null,
            "max_height": null,
            "align_content": null,
            "visibility": null,
            "align_self": null,
            "height": null,
            "min_height": null,
            "padding": null,
            "grid_auto_rows": null,
            "grid_gap": null,
            "max_width": null,
            "order": null,
            "_view_module_version": "1.2.0",
            "grid_template_areas": null,
            "object_position": null,
            "object_fit": null,
            "grid_auto_columns": null,
            "margin": null,
            "display": null,
            "left": null
          }
        },
        "8fc042bf8909479f81c9952ec7535028": {
          "model_module": "@jupyter-widgets/controls",
          "model_name": "ProgressStyleModel",
          "model_module_version": "1.5.0",
          "state": {
            "_view_name": "StyleView",
            "_model_name": "ProgressStyleModel",
            "description_width": "",
            "_view_module": "@jupyter-widgets/base",
            "_model_module_version": "1.5.0",
            "_view_count": null,
            "_view_module_version": "1.2.0",
            "bar_color": null,
            "_model_module": "@jupyter-widgets/controls"
          }
        },
        "964fc6836dff46b2bb73448aecdf12e8": {
          "model_module": "@jupyter-widgets/base",
          "model_name": "LayoutModel",
          "model_module_version": "1.2.0",
          "state": {
            "_view_name": "LayoutView",
            "grid_template_rows": null,
            "right": null,
            "justify_content": null,
            "_view_module": "@jupyter-widgets/base",
            "overflow": null,
            "_model_module_version": "1.2.0",
            "_view_count": null,
            "flex_flow": null,
            "width": null,
            "min_width": null,
            "border": null,
            "align_items": null,
            "bottom": null,
            "_model_module": "@jupyter-widgets/base",
            "top": null,
            "grid_column": null,
            "overflow_y": null,
            "overflow_x": null,
            "grid_auto_flow": null,
            "grid_area": null,
            "grid_template_columns": null,
            "flex": null,
            "_model_name": "LayoutModel",
            "justify_items": null,
            "grid_row": null,
            "max_height": null,
            "align_content": null,
            "visibility": null,
            "align_self": null,
            "height": null,
            "min_height": null,
            "padding": null,
            "grid_auto_rows": null,
            "grid_gap": null,
            "max_width": null,
            "order": null,
            "_view_module_version": "1.2.0",
            "grid_template_areas": null,
            "object_position": null,
            "object_fit": null,
            "grid_auto_columns": null,
            "margin": null,
            "display": null,
            "left": null
          }
        },
        "62f14a62c36f4a43850b1a8e15d82548": {
          "model_module": "@jupyter-widgets/controls",
          "model_name": "DescriptionStyleModel",
          "model_module_version": "1.5.0",
          "state": {
            "_view_name": "StyleView",
            "_model_name": "DescriptionStyleModel",
            "description_width": "",
            "_view_module": "@jupyter-widgets/base",
            "_model_module_version": "1.5.0",
            "_view_count": null,
            "_view_module_version": "1.2.0",
            "_model_module": "@jupyter-widgets/controls"
          }
        },
        "167e480a0fa54ed69ffb18889452c1ef": {
          "model_module": "@jupyter-widgets/base",
          "model_name": "LayoutModel",
          "model_module_version": "1.2.0",
          "state": {
            "_view_name": "LayoutView",
            "grid_template_rows": null,
            "right": null,
            "justify_content": null,
            "_view_module": "@jupyter-widgets/base",
            "overflow": null,
            "_model_module_version": "1.2.0",
            "_view_count": null,
            "flex_flow": null,
            "width": null,
            "min_width": null,
            "border": null,
            "align_items": null,
            "bottom": null,
            "_model_module": "@jupyter-widgets/base",
            "top": null,
            "grid_column": null,
            "overflow_y": null,
            "overflow_x": null,
            "grid_auto_flow": null,
            "grid_area": null,
            "grid_template_columns": null,
            "flex": null,
            "_model_name": "LayoutModel",
            "justify_items": null,
            "grid_row": null,
            "max_height": null,
            "align_content": null,
            "visibility": null,
            "align_self": null,
            "height": null,
            "min_height": null,
            "padding": null,
            "grid_auto_rows": null,
            "grid_gap": null,
            "max_width": null,
            "order": null,
            "_view_module_version": "1.2.0",
            "grid_template_areas": null,
            "object_position": null,
            "object_fit": null,
            "grid_auto_columns": null,
            "margin": null,
            "display": null,
            "left": null
          }
        },
        "f2d21d9253b74a48bbb31503bc2ac467": {
          "model_module": "@jupyter-widgets/controls",
          "model_name": "HBoxModel",
          "model_module_version": "1.5.0",
          "state": {
            "_view_name": "HBoxView",
            "_dom_classes": [],
            "_model_name": "HBoxModel",
            "_view_module": "@jupyter-widgets/controls",
            "_model_module_version": "1.5.0",
            "_view_count": null,
            "_view_module_version": "1.5.0",
            "box_style": "",
            "layout": "IPY_MODEL_a840f6c3e2bd43c9a294a352ab167ac1",
            "_model_module": "@jupyter-widgets/controls",
            "children": [
              "IPY_MODEL_391f65ae74664b43b0369d85442a2ab8",
              "IPY_MODEL_a7fecf39a177480cae7cc1b3ef9e423e",
              "IPY_MODEL_4f669a2e480d408b97a71c0143eea676"
            ]
          }
        },
        "a840f6c3e2bd43c9a294a352ab167ac1": {
          "model_module": "@jupyter-widgets/base",
          "model_name": "LayoutModel",
          "model_module_version": "1.2.0",
          "state": {
            "_view_name": "LayoutView",
            "grid_template_rows": null,
            "right": null,
            "justify_content": null,
            "_view_module": "@jupyter-widgets/base",
            "overflow": null,
            "_model_module_version": "1.2.0",
            "_view_count": null,
            "flex_flow": null,
            "width": null,
            "min_width": null,
            "border": null,
            "align_items": null,
            "bottom": null,
            "_model_module": "@jupyter-widgets/base",
            "top": null,
            "grid_column": null,
            "overflow_y": null,
            "overflow_x": null,
            "grid_auto_flow": null,
            "grid_area": null,
            "grid_template_columns": null,
            "flex": null,
            "_model_name": "LayoutModel",
            "justify_items": null,
            "grid_row": null,
            "max_height": null,
            "align_content": null,
            "visibility": null,
            "align_self": null,
            "height": null,
            "min_height": null,
            "padding": null,
            "grid_auto_rows": null,
            "grid_gap": null,
            "max_width": null,
            "order": null,
            "_view_module_version": "1.2.0",
            "grid_template_areas": null,
            "object_position": null,
            "object_fit": null,
            "grid_auto_columns": null,
            "margin": null,
            "display": null,
            "left": null
          }
        },
        "391f65ae74664b43b0369d85442a2ab8": {
          "model_module": "@jupyter-widgets/controls",
          "model_name": "HTMLModel",
          "model_module_version": "1.5.0",
          "state": {
            "_view_name": "HTMLView",
            "style": "IPY_MODEL_2de170e6fa0c462aa5248a4652f439b6",
            "_dom_classes": [],
            "description": "",
            "_model_name": "HTMLModel",
            "placeholder": "​",
            "_view_module": "@jupyter-widgets/controls",
            "_model_module_version": "1.5.0",
            "value": "Downloading: 100%",
            "_view_count": null,
            "_view_module_version": "1.5.0",
            "description_tooltip": null,
            "_model_module": "@jupyter-widgets/controls",
            "layout": "IPY_MODEL_cce78ea693934d0683939c34a688d391"
          }
        },
        "a7fecf39a177480cae7cc1b3ef9e423e": {
          "model_module": "@jupyter-widgets/controls",
          "model_name": "FloatProgressModel",
          "model_module_version": "1.5.0",
          "state": {
            "_view_name": "ProgressView",
            "style": "IPY_MODEL_0caa5bc9f226487ea44b351f07d21444",
            "_dom_classes": [],
            "description": "",
            "_model_name": "FloatProgressModel",
            "bar_style": "success",
            "max": 898823,
            "_view_module": "@jupyter-widgets/controls",
            "_model_module_version": "1.5.0",
            "value": 898823,
            "_view_count": null,
            "_view_module_version": "1.5.0",
            "orientation": "horizontal",
            "min": 0,
            "description_tooltip": null,
            "_model_module": "@jupyter-widgets/controls",
            "layout": "IPY_MODEL_14f3bcc956024b8a9ded777baf2a069b"
          }
        },
        "4f669a2e480d408b97a71c0143eea676": {
          "model_module": "@jupyter-widgets/controls",
          "model_name": "HTMLModel",
          "model_module_version": "1.5.0",
          "state": {
            "_view_name": "HTMLView",
            "style": "IPY_MODEL_cf7fcf3165954740a62c8cacdf6fca6a",
            "_dom_classes": [],
            "description": "",
            "_model_name": "HTMLModel",
            "placeholder": "​",
            "_view_module": "@jupyter-widgets/controls",
            "_model_module_version": "1.5.0",
            "value": " 878k/878k [00:00&lt;00:00, 1.11MB/s]",
            "_view_count": null,
            "_view_module_version": "1.5.0",
            "description_tooltip": null,
            "_model_module": "@jupyter-widgets/controls",
            "layout": "IPY_MODEL_9d2037ed462b444fae526c7569cb202f"
          }
        },
        "2de170e6fa0c462aa5248a4652f439b6": {
          "model_module": "@jupyter-widgets/controls",
          "model_name": "DescriptionStyleModel",
          "model_module_version": "1.5.0",
          "state": {
            "_view_name": "StyleView",
            "_model_name": "DescriptionStyleModel",
            "description_width": "",
            "_view_module": "@jupyter-widgets/base",
            "_model_module_version": "1.5.0",
            "_view_count": null,
            "_view_module_version": "1.2.0",
            "_model_module": "@jupyter-widgets/controls"
          }
        },
        "cce78ea693934d0683939c34a688d391": {
          "model_module": "@jupyter-widgets/base",
          "model_name": "LayoutModel",
          "model_module_version": "1.2.0",
          "state": {
            "_view_name": "LayoutView",
            "grid_template_rows": null,
            "right": null,
            "justify_content": null,
            "_view_module": "@jupyter-widgets/base",
            "overflow": null,
            "_model_module_version": "1.2.0",
            "_view_count": null,
            "flex_flow": null,
            "width": null,
            "min_width": null,
            "border": null,
            "align_items": null,
            "bottom": null,
            "_model_module": "@jupyter-widgets/base",
            "top": null,
            "grid_column": null,
            "overflow_y": null,
            "overflow_x": null,
            "grid_auto_flow": null,
            "grid_area": null,
            "grid_template_columns": null,
            "flex": null,
            "_model_name": "LayoutModel",
            "justify_items": null,
            "grid_row": null,
            "max_height": null,
            "align_content": null,
            "visibility": null,
            "align_self": null,
            "height": null,
            "min_height": null,
            "padding": null,
            "grid_auto_rows": null,
            "grid_gap": null,
            "max_width": null,
            "order": null,
            "_view_module_version": "1.2.0",
            "grid_template_areas": null,
            "object_position": null,
            "object_fit": null,
            "grid_auto_columns": null,
            "margin": null,
            "display": null,
            "left": null
          }
        },
        "0caa5bc9f226487ea44b351f07d21444": {
          "model_module": "@jupyter-widgets/controls",
          "model_name": "ProgressStyleModel",
          "model_module_version": "1.5.0",
          "state": {
            "_view_name": "StyleView",
            "_model_name": "ProgressStyleModel",
            "description_width": "",
            "_view_module": "@jupyter-widgets/base",
            "_model_module_version": "1.5.0",
            "_view_count": null,
            "_view_module_version": "1.2.0",
            "bar_color": null,
            "_model_module": "@jupyter-widgets/controls"
          }
        },
        "14f3bcc956024b8a9ded777baf2a069b": {
          "model_module": "@jupyter-widgets/base",
          "model_name": "LayoutModel",
          "model_module_version": "1.2.0",
          "state": {
            "_view_name": "LayoutView",
            "grid_template_rows": null,
            "right": null,
            "justify_content": null,
            "_view_module": "@jupyter-widgets/base",
            "overflow": null,
            "_model_module_version": "1.2.0",
            "_view_count": null,
            "flex_flow": null,
            "width": null,
            "min_width": null,
            "border": null,
            "align_items": null,
            "bottom": null,
            "_model_module": "@jupyter-widgets/base",
            "top": null,
            "grid_column": null,
            "overflow_y": null,
            "overflow_x": null,
            "grid_auto_flow": null,
            "grid_area": null,
            "grid_template_columns": null,
            "flex": null,
            "_model_name": "LayoutModel",
            "justify_items": null,
            "grid_row": null,
            "max_height": null,
            "align_content": null,
            "visibility": null,
            "align_self": null,
            "height": null,
            "min_height": null,
            "padding": null,
            "grid_auto_rows": null,
            "grid_gap": null,
            "max_width": null,
            "order": null,
            "_view_module_version": "1.2.0",
            "grid_template_areas": null,
            "object_position": null,
            "object_fit": null,
            "grid_auto_columns": null,
            "margin": null,
            "display": null,
            "left": null
          }
        },
        "cf7fcf3165954740a62c8cacdf6fca6a": {
          "model_module": "@jupyter-widgets/controls",
          "model_name": "DescriptionStyleModel",
          "model_module_version": "1.5.0",
          "state": {
            "_view_name": "StyleView",
            "_model_name": "DescriptionStyleModel",
            "description_width": "",
            "_view_module": "@jupyter-widgets/base",
            "_model_module_version": "1.5.0",
            "_view_count": null,
            "_view_module_version": "1.2.0",
            "_model_module": "@jupyter-widgets/controls"
          }
        },
        "9d2037ed462b444fae526c7569cb202f": {
          "model_module": "@jupyter-widgets/base",
          "model_name": "LayoutModel",
          "model_module_version": "1.2.0",
          "state": {
            "_view_name": "LayoutView",
            "grid_template_rows": null,
            "right": null,
            "justify_content": null,
            "_view_module": "@jupyter-widgets/base",
            "overflow": null,
            "_model_module_version": "1.2.0",
            "_view_count": null,
            "flex_flow": null,
            "width": null,
            "min_width": null,
            "border": null,
            "align_items": null,
            "bottom": null,
            "_model_module": "@jupyter-widgets/base",
            "top": null,
            "grid_column": null,
            "overflow_y": null,
            "overflow_x": null,
            "grid_auto_flow": null,
            "grid_area": null,
            "grid_template_columns": null,
            "flex": null,
            "_model_name": "LayoutModel",
            "justify_items": null,
            "grid_row": null,
            "max_height": null,
            "align_content": null,
            "visibility": null,
            "align_self": null,
            "height": null,
            "min_height": null,
            "padding": null,
            "grid_auto_rows": null,
            "grid_gap": null,
            "max_width": null,
            "order": null,
            "_view_module_version": "1.2.0",
            "grid_template_areas": null,
            "object_position": null,
            "object_fit": null,
            "grid_auto_columns": null,
            "margin": null,
            "display": null,
            "left": null
          }
        },
        "ee190a4bc6b040ab96d692b6617d275e": {
          "model_module": "@jupyter-widgets/controls",
          "model_name": "HBoxModel",
          "model_module_version": "1.5.0",
          "state": {
            "_view_name": "HBoxView",
            "_dom_classes": [],
            "_model_name": "HBoxModel",
            "_view_module": "@jupyter-widgets/controls",
            "_model_module_version": "1.5.0",
            "_view_count": null,
            "_view_module_version": "1.5.0",
            "box_style": "",
            "layout": "IPY_MODEL_cd0aeaf1ad2449529cc2ebb47db61434",
            "_model_module": "@jupyter-widgets/controls",
            "children": [
              "IPY_MODEL_4866603477034c30ae6f6d34515c2085",
              "IPY_MODEL_f790e388f80d493f9baa6140e0e07055",
              "IPY_MODEL_74fb1e34cc87490ea85fcfc173a192ab"
            ]
          }
        },
        "cd0aeaf1ad2449529cc2ebb47db61434": {
          "model_module": "@jupyter-widgets/base",
          "model_name": "LayoutModel",
          "model_module_version": "1.2.0",
          "state": {
            "_view_name": "LayoutView",
            "grid_template_rows": null,
            "right": null,
            "justify_content": null,
            "_view_module": "@jupyter-widgets/base",
            "overflow": null,
            "_model_module_version": "1.2.0",
            "_view_count": null,
            "flex_flow": null,
            "width": null,
            "min_width": null,
            "border": null,
            "align_items": null,
            "bottom": null,
            "_model_module": "@jupyter-widgets/base",
            "top": null,
            "grid_column": null,
            "overflow_y": null,
            "overflow_x": null,
            "grid_auto_flow": null,
            "grid_area": null,
            "grid_template_columns": null,
            "flex": null,
            "_model_name": "LayoutModel",
            "justify_items": null,
            "grid_row": null,
            "max_height": null,
            "align_content": null,
            "visibility": null,
            "align_self": null,
            "height": null,
            "min_height": null,
            "padding": null,
            "grid_auto_rows": null,
            "grid_gap": null,
            "max_width": null,
            "order": null,
            "_view_module_version": "1.2.0",
            "grid_template_areas": null,
            "object_position": null,
            "object_fit": null,
            "grid_auto_columns": null,
            "margin": null,
            "display": null,
            "left": null
          }
        },
        "4866603477034c30ae6f6d34515c2085": {
          "model_module": "@jupyter-widgets/controls",
          "model_name": "HTMLModel",
          "model_module_version": "1.5.0",
          "state": {
            "_view_name": "HTMLView",
            "style": "IPY_MODEL_b57bd61c0de544ee89566e78b29f246e",
            "_dom_classes": [],
            "description": "",
            "_model_name": "HTMLModel",
            "placeholder": "​",
            "_view_module": "@jupyter-widgets/controls",
            "_model_module_version": "1.5.0",
            "value": "Downloading: 100%",
            "_view_count": null,
            "_view_module_version": "1.5.0",
            "description_tooltip": null,
            "_model_module": "@jupyter-widgets/controls",
            "layout": "IPY_MODEL_07a3932885204af5a0185ea6d68af421"
          }
        },
        "f790e388f80d493f9baa6140e0e07055": {
          "model_module": "@jupyter-widgets/controls",
          "model_name": "FloatProgressModel",
          "model_module_version": "1.5.0",
          "state": {
            "_view_name": "ProgressView",
            "style": "IPY_MODEL_475ed3de83354aada8d2af158cee3196",
            "_dom_classes": [],
            "description": "",
            "_model_name": "FloatProgressModel",
            "bar_style": "success",
            "max": 456318,
            "_view_module": "@jupyter-widgets/controls",
            "_model_module_version": "1.5.0",
            "value": 456318,
            "_view_count": null,
            "_view_module_version": "1.5.0",
            "orientation": "horizontal",
            "min": 0,
            "description_tooltip": null,
            "_model_module": "@jupyter-widgets/controls",
            "layout": "IPY_MODEL_e3f185a04eff4b93af26ee5cbfb00bb0"
          }
        },
        "74fb1e34cc87490ea85fcfc173a192ab": {
          "model_module": "@jupyter-widgets/controls",
          "model_name": "HTMLModel",
          "model_module_version": "1.5.0",
          "state": {
            "_view_name": "HTMLView",
            "style": "IPY_MODEL_93c642bbacb848e6b357bffec1d7017a",
            "_dom_classes": [],
            "description": "",
            "_model_name": "HTMLModel",
            "placeholder": "​",
            "_view_module": "@jupyter-widgets/controls",
            "_model_module_version": "1.5.0",
            "value": " 446k/446k [00:00&lt;00:00, 1.18MB/s]",
            "_view_count": null,
            "_view_module_version": "1.5.0",
            "description_tooltip": null,
            "_model_module": "@jupyter-widgets/controls",
            "layout": "IPY_MODEL_342c5198b90040b28efa11734d826fc2"
          }
        },
        "b57bd61c0de544ee89566e78b29f246e": {
          "model_module": "@jupyter-widgets/controls",
          "model_name": "DescriptionStyleModel",
          "model_module_version": "1.5.0",
          "state": {
            "_view_name": "StyleView",
            "_model_name": "DescriptionStyleModel",
            "description_width": "",
            "_view_module": "@jupyter-widgets/base",
            "_model_module_version": "1.5.0",
            "_view_count": null,
            "_view_module_version": "1.2.0",
            "_model_module": "@jupyter-widgets/controls"
          }
        },
        "07a3932885204af5a0185ea6d68af421": {
          "model_module": "@jupyter-widgets/base",
          "model_name": "LayoutModel",
          "model_module_version": "1.2.0",
          "state": {
            "_view_name": "LayoutView",
            "grid_template_rows": null,
            "right": null,
            "justify_content": null,
            "_view_module": "@jupyter-widgets/base",
            "overflow": null,
            "_model_module_version": "1.2.0",
            "_view_count": null,
            "flex_flow": null,
            "width": null,
            "min_width": null,
            "border": null,
            "align_items": null,
            "bottom": null,
            "_model_module": "@jupyter-widgets/base",
            "top": null,
            "grid_column": null,
            "overflow_y": null,
            "overflow_x": null,
            "grid_auto_flow": null,
            "grid_area": null,
            "grid_template_columns": null,
            "flex": null,
            "_model_name": "LayoutModel",
            "justify_items": null,
            "grid_row": null,
            "max_height": null,
            "align_content": null,
            "visibility": null,
            "align_self": null,
            "height": null,
            "min_height": null,
            "padding": null,
            "grid_auto_rows": null,
            "grid_gap": null,
            "max_width": null,
            "order": null,
            "_view_module_version": "1.2.0",
            "grid_template_areas": null,
            "object_position": null,
            "object_fit": null,
            "grid_auto_columns": null,
            "margin": null,
            "display": null,
            "left": null
          }
        },
        "475ed3de83354aada8d2af158cee3196": {
          "model_module": "@jupyter-widgets/controls",
          "model_name": "ProgressStyleModel",
          "model_module_version": "1.5.0",
          "state": {
            "_view_name": "StyleView",
            "_model_name": "ProgressStyleModel",
            "description_width": "",
            "_view_module": "@jupyter-widgets/base",
            "_model_module_version": "1.5.0",
            "_view_count": null,
            "_view_module_version": "1.2.0",
            "bar_color": null,
            "_model_module": "@jupyter-widgets/controls"
          }
        },
        "e3f185a04eff4b93af26ee5cbfb00bb0": {
          "model_module": "@jupyter-widgets/base",
          "model_name": "LayoutModel",
          "model_module_version": "1.2.0",
          "state": {
            "_view_name": "LayoutView",
            "grid_template_rows": null,
            "right": null,
            "justify_content": null,
            "_view_module": "@jupyter-widgets/base",
            "overflow": null,
            "_model_module_version": "1.2.0",
            "_view_count": null,
            "flex_flow": null,
            "width": null,
            "min_width": null,
            "border": null,
            "align_items": null,
            "bottom": null,
            "_model_module": "@jupyter-widgets/base",
            "top": null,
            "grid_column": null,
            "overflow_y": null,
            "overflow_x": null,
            "grid_auto_flow": null,
            "grid_area": null,
            "grid_template_columns": null,
            "flex": null,
            "_model_name": "LayoutModel",
            "justify_items": null,
            "grid_row": null,
            "max_height": null,
            "align_content": null,
            "visibility": null,
            "align_self": null,
            "height": null,
            "min_height": null,
            "padding": null,
            "grid_auto_rows": null,
            "grid_gap": null,
            "max_width": null,
            "order": null,
            "_view_module_version": "1.2.0",
            "grid_template_areas": null,
            "object_position": null,
            "object_fit": null,
            "grid_auto_columns": null,
            "margin": null,
            "display": null,
            "left": null
          }
        },
        "93c642bbacb848e6b357bffec1d7017a": {
          "model_module": "@jupyter-widgets/controls",
          "model_name": "DescriptionStyleModel",
          "model_module_version": "1.5.0",
          "state": {
            "_view_name": "StyleView",
            "_model_name": "DescriptionStyleModel",
            "description_width": "",
            "_view_module": "@jupyter-widgets/base",
            "_model_module_version": "1.5.0",
            "_view_count": null,
            "_view_module_version": "1.2.0",
            "_model_module": "@jupyter-widgets/controls"
          }
        },
        "342c5198b90040b28efa11734d826fc2": {
          "model_module": "@jupyter-widgets/base",
          "model_name": "LayoutModel",
          "model_module_version": "1.2.0",
          "state": {
            "_view_name": "LayoutView",
            "grid_template_rows": null,
            "right": null,
            "justify_content": null,
            "_view_module": "@jupyter-widgets/base",
            "overflow": null,
            "_model_module_version": "1.2.0",
            "_view_count": null,
            "flex_flow": null,
            "width": null,
            "min_width": null,
            "border": null,
            "align_items": null,
            "bottom": null,
            "_model_module": "@jupyter-widgets/base",
            "top": null,
            "grid_column": null,
            "overflow_y": null,
            "overflow_x": null,
            "grid_auto_flow": null,
            "grid_area": null,
            "grid_template_columns": null,
            "flex": null,
            "_model_name": "LayoutModel",
            "justify_items": null,
            "grid_row": null,
            "max_height": null,
            "align_content": null,
            "visibility": null,
            "align_self": null,
            "height": null,
            "min_height": null,
            "padding": null,
            "grid_auto_rows": null,
            "grid_gap": null,
            "max_width": null,
            "order": null,
            "_view_module_version": "1.2.0",
            "grid_template_areas": null,
            "object_position": null,
            "object_fit": null,
            "grid_auto_columns": null,
            "margin": null,
            "display": null,
            "left": null
          }
        },
        "15c790d7ca6c433da54800bb5b31fab5": {
          "model_module": "@jupyter-widgets/controls",
          "model_name": "HBoxModel",
          "model_module_version": "1.5.0",
          "state": {
            "_view_name": "HBoxView",
            "_dom_classes": [],
            "_model_name": "HBoxModel",
            "_view_module": "@jupyter-widgets/controls",
            "_model_module_version": "1.5.0",
            "_view_count": null,
            "_view_module_version": "1.5.0",
            "box_style": "",
            "layout": "IPY_MODEL_ca04cda969ff47e5a32865e27de568b0",
            "_model_module": "@jupyter-widgets/controls",
            "children": [
              "IPY_MODEL_f60be9fc7f46490c8f8f7b91327bd398",
              "IPY_MODEL_a54e5bb41d3c4956a516a0f1077241d0",
              "IPY_MODEL_e3a9c2bd78084479ac7b498ab281cdb2"
            ]
          }
        },
        "ca04cda969ff47e5a32865e27de568b0": {
          "model_module": "@jupyter-widgets/base",
          "model_name": "LayoutModel",
          "model_module_version": "1.2.0",
          "state": {
            "_view_name": "LayoutView",
            "grid_template_rows": null,
            "right": null,
            "justify_content": null,
            "_view_module": "@jupyter-widgets/base",
            "overflow": null,
            "_model_module_version": "1.2.0",
            "_view_count": null,
            "flex_flow": null,
            "width": null,
            "min_width": null,
            "border": null,
            "align_items": null,
            "bottom": null,
            "_model_module": "@jupyter-widgets/base",
            "top": null,
            "grid_column": null,
            "overflow_y": null,
            "overflow_x": null,
            "grid_auto_flow": null,
            "grid_area": null,
            "grid_template_columns": null,
            "flex": null,
            "_model_name": "LayoutModel",
            "justify_items": null,
            "grid_row": null,
            "max_height": null,
            "align_content": null,
            "visibility": null,
            "align_self": null,
            "height": null,
            "min_height": null,
            "padding": null,
            "grid_auto_rows": null,
            "grid_gap": null,
            "max_width": null,
            "order": null,
            "_view_module_version": "1.2.0",
            "grid_template_areas": null,
            "object_position": null,
            "object_fit": null,
            "grid_auto_columns": null,
            "margin": null,
            "display": null,
            "left": null
          }
        },
        "f60be9fc7f46490c8f8f7b91327bd398": {
          "model_module": "@jupyter-widgets/controls",
          "model_name": "HTMLModel",
          "model_module_version": "1.5.0",
          "state": {
            "_view_name": "HTMLView",
            "style": "IPY_MODEL_39a451a099e34c06a2df16b98f2c0c13",
            "_dom_classes": [],
            "description": "",
            "_model_name": "HTMLModel",
            "placeholder": "​",
            "_view_module": "@jupyter-widgets/controls",
            "_model_module_version": "1.5.0",
            "value": "Downloading: 100%",
            "_view_count": null,
            "_view_module_version": "1.5.0",
            "description_tooltip": null,
            "_model_module": "@jupyter-widgets/controls",
            "layout": "IPY_MODEL_565474e4f2ae401b9fcc41f6b6ac0695"
          }
        },
        "a54e5bb41d3c4956a516a0f1077241d0": {
          "model_module": "@jupyter-widgets/controls",
          "model_name": "FloatProgressModel",
          "model_module_version": "1.5.0",
          "state": {
            "_view_name": "ProgressView",
            "style": "IPY_MODEL_c96d52ec5aa94a56b66e8b1a8db87905",
            "_dom_classes": [],
            "description": "",
            "_model_name": "FloatProgressModel",
            "bar_style": "success",
            "max": 1355863,
            "_view_module": "@jupyter-widgets/controls",
            "_model_module_version": "1.5.0",
            "value": 1355863,
            "_view_count": null,
            "_view_module_version": "1.5.0",
            "orientation": "horizontal",
            "min": 0,
            "description_tooltip": null,
            "_model_module": "@jupyter-widgets/controls",
            "layout": "IPY_MODEL_ac52b21d27834ee1a1667e8754504584"
          }
        },
        "e3a9c2bd78084479ac7b498ab281cdb2": {
          "model_module": "@jupyter-widgets/controls",
          "model_name": "HTMLModel",
          "model_module_version": "1.5.0",
          "state": {
            "_view_name": "HTMLView",
            "style": "IPY_MODEL_30f8c0dfbd12407e80fbc0543891b02a",
            "_dom_classes": [],
            "description": "",
            "_model_name": "HTMLModel",
            "placeholder": "​",
            "_view_module": "@jupyter-widgets/controls",
            "_model_module_version": "1.5.0",
            "value": " 1.29M/1.29M [00:00&lt;00:00, 1.12MB/s]",
            "_view_count": null,
            "_view_module_version": "1.5.0",
            "description_tooltip": null,
            "_model_module": "@jupyter-widgets/controls",
            "layout": "IPY_MODEL_97d9699ea8534772b49a8d3d6413c477"
          }
        },
        "39a451a099e34c06a2df16b98f2c0c13": {
          "model_module": "@jupyter-widgets/controls",
          "model_name": "DescriptionStyleModel",
          "model_module_version": "1.5.0",
          "state": {
            "_view_name": "StyleView",
            "_model_name": "DescriptionStyleModel",
            "description_width": "",
            "_view_module": "@jupyter-widgets/base",
            "_model_module_version": "1.5.0",
            "_view_count": null,
            "_view_module_version": "1.2.0",
            "_model_module": "@jupyter-widgets/controls"
          }
        },
        "565474e4f2ae401b9fcc41f6b6ac0695": {
          "model_module": "@jupyter-widgets/base",
          "model_name": "LayoutModel",
          "model_module_version": "1.2.0",
          "state": {
            "_view_name": "LayoutView",
            "grid_template_rows": null,
            "right": null,
            "justify_content": null,
            "_view_module": "@jupyter-widgets/base",
            "overflow": null,
            "_model_module_version": "1.2.0",
            "_view_count": null,
            "flex_flow": null,
            "width": null,
            "min_width": null,
            "border": null,
            "align_items": null,
            "bottom": null,
            "_model_module": "@jupyter-widgets/base",
            "top": null,
            "grid_column": null,
            "overflow_y": null,
            "overflow_x": null,
            "grid_auto_flow": null,
            "grid_area": null,
            "grid_template_columns": null,
            "flex": null,
            "_model_name": "LayoutModel",
            "justify_items": null,
            "grid_row": null,
            "max_height": null,
            "align_content": null,
            "visibility": null,
            "align_self": null,
            "height": null,
            "min_height": null,
            "padding": null,
            "grid_auto_rows": null,
            "grid_gap": null,
            "max_width": null,
            "order": null,
            "_view_module_version": "1.2.0",
            "grid_template_areas": null,
            "object_position": null,
            "object_fit": null,
            "grid_auto_columns": null,
            "margin": null,
            "display": null,
            "left": null
          }
        },
        "c96d52ec5aa94a56b66e8b1a8db87905": {
          "model_module": "@jupyter-widgets/controls",
          "model_name": "ProgressStyleModel",
          "model_module_version": "1.5.0",
          "state": {
            "_view_name": "StyleView",
            "_model_name": "ProgressStyleModel",
            "description_width": "",
            "_view_module": "@jupyter-widgets/base",
            "_model_module_version": "1.5.0",
            "_view_count": null,
            "_view_module_version": "1.2.0",
            "bar_color": null,
            "_model_module": "@jupyter-widgets/controls"
          }
        },
        "ac52b21d27834ee1a1667e8754504584": {
          "model_module": "@jupyter-widgets/base",
          "model_name": "LayoutModel",
          "model_module_version": "1.2.0",
          "state": {
            "_view_name": "LayoutView",
            "grid_template_rows": null,
            "right": null,
            "justify_content": null,
            "_view_module": "@jupyter-widgets/base",
            "overflow": null,
            "_model_module_version": "1.2.0",
            "_view_count": null,
            "flex_flow": null,
            "width": null,
            "min_width": null,
            "border": null,
            "align_items": null,
            "bottom": null,
            "_model_module": "@jupyter-widgets/base",
            "top": null,
            "grid_column": null,
            "overflow_y": null,
            "overflow_x": null,
            "grid_auto_flow": null,
            "grid_area": null,
            "grid_template_columns": null,
            "flex": null,
            "_model_name": "LayoutModel",
            "justify_items": null,
            "grid_row": null,
            "max_height": null,
            "align_content": null,
            "visibility": null,
            "align_self": null,
            "height": null,
            "min_height": null,
            "padding": null,
            "grid_auto_rows": null,
            "grid_gap": null,
            "max_width": null,
            "order": null,
            "_view_module_version": "1.2.0",
            "grid_template_areas": null,
            "object_position": null,
            "object_fit": null,
            "grid_auto_columns": null,
            "margin": null,
            "display": null,
            "left": null
          }
        },
        "30f8c0dfbd12407e80fbc0543891b02a": {
          "model_module": "@jupyter-widgets/controls",
          "model_name": "DescriptionStyleModel",
          "model_module_version": "1.5.0",
          "state": {
            "_view_name": "StyleView",
            "_model_name": "DescriptionStyleModel",
            "description_width": "",
            "_view_module": "@jupyter-widgets/base",
            "_model_module_version": "1.5.0",
            "_view_count": null,
            "_view_module_version": "1.2.0",
            "_model_module": "@jupyter-widgets/controls"
          }
        },
        "97d9699ea8534772b49a8d3d6413c477": {
          "model_module": "@jupyter-widgets/base",
          "model_name": "LayoutModel",
          "model_module_version": "1.2.0",
          "state": {
            "_view_name": "LayoutView",
            "grid_template_rows": null,
            "right": null,
            "justify_content": null,
            "_view_module": "@jupyter-widgets/base",
            "overflow": null,
            "_model_module_version": "1.2.0",
            "_view_count": null,
            "flex_flow": null,
            "width": null,
            "min_width": null,
            "border": null,
            "align_items": null,
            "bottom": null,
            "_model_module": "@jupyter-widgets/base",
            "top": null,
            "grid_column": null,
            "overflow_y": null,
            "overflow_x": null,
            "grid_auto_flow": null,
            "grid_area": null,
            "grid_template_columns": null,
            "flex": null,
            "_model_name": "LayoutModel",
            "justify_items": null,
            "grid_row": null,
            "max_height": null,
            "align_content": null,
            "visibility": null,
            "align_self": null,
            "height": null,
            "min_height": null,
            "padding": null,
            "grid_auto_rows": null,
            "grid_gap": null,
            "max_width": null,
            "order": null,
            "_view_module_version": "1.2.0",
            "grid_template_areas": null,
            "object_position": null,
            "object_fit": null,
            "grid_auto_columns": null,
            "margin": null,
            "display": null,
            "left": null
          }
        },
        "b3891a0f154b4a96a1df220fc504cc88": {
          "model_module": "@jupyter-widgets/controls",
          "model_name": "HBoxModel",
          "model_module_version": "1.5.0",
          "state": {
            "_view_name": "HBoxView",
            "_dom_classes": [],
            "_model_name": "HBoxModel",
            "_view_module": "@jupyter-widgets/controls",
            "_model_module_version": "1.5.0",
            "_view_count": null,
            "_view_module_version": "1.5.0",
            "box_style": "",
            "layout": "IPY_MODEL_db8bae7f277e44bda6e306461c22e9bf",
            "_model_module": "@jupyter-widgets/controls",
            "children": [
              "IPY_MODEL_30b2346cb8094b13aca2dbbdd5541f45",
              "IPY_MODEL_4eb94d9c8d6a4555aebe194f0819eadc",
              "IPY_MODEL_9901944729744604b2e484638b762974"
            ]
          }
        },
        "db8bae7f277e44bda6e306461c22e9bf": {
          "model_module": "@jupyter-widgets/base",
          "model_name": "LayoutModel",
          "model_module_version": "1.2.0",
          "state": {
            "_view_name": "LayoutView",
            "grid_template_rows": null,
            "right": null,
            "justify_content": null,
            "_view_module": "@jupyter-widgets/base",
            "overflow": null,
            "_model_module_version": "1.2.0",
            "_view_count": null,
            "flex_flow": null,
            "width": null,
            "min_width": null,
            "border": null,
            "align_items": null,
            "bottom": null,
            "_model_module": "@jupyter-widgets/base",
            "top": null,
            "grid_column": null,
            "overflow_y": null,
            "overflow_x": null,
            "grid_auto_flow": null,
            "grid_area": null,
            "grid_template_columns": null,
            "flex": null,
            "_model_name": "LayoutModel",
            "justify_items": null,
            "grid_row": null,
            "max_height": null,
            "align_content": null,
            "visibility": null,
            "align_self": null,
            "height": null,
            "min_height": null,
            "padding": null,
            "grid_auto_rows": null,
            "grid_gap": null,
            "max_width": null,
            "order": null,
            "_view_module_version": "1.2.0",
            "grid_template_areas": null,
            "object_position": null,
            "object_fit": null,
            "grid_auto_columns": null,
            "margin": null,
            "display": null,
            "left": null
          }
        },
        "30b2346cb8094b13aca2dbbdd5541f45": {
          "model_module": "@jupyter-widgets/controls",
          "model_name": "HTMLModel",
          "model_module_version": "1.5.0",
          "state": {
            "_view_name": "HTMLView",
            "style": "IPY_MODEL_810034e07c1b4fd2881c464e5db0f46c",
            "_dom_classes": [],
            "description": "",
            "_model_name": "HTMLModel",
            "placeholder": "​",
            "_view_module": "@jupyter-widgets/controls",
            "_model_module_version": "1.5.0",
            "value": "Downloading: 100%",
            "_view_count": null,
            "_view_module_version": "1.5.0",
            "description_tooltip": null,
            "_model_module": "@jupyter-widgets/controls",
            "layout": "IPY_MODEL_834565fb70b045b0a6ff4a16b09d300e"
          }
        },
        "4eb94d9c8d6a4555aebe194f0819eadc": {
          "model_module": "@jupyter-widgets/controls",
          "model_name": "FloatProgressModel",
          "model_module_version": "1.5.0",
          "state": {
            "_view_name": "ProgressView",
            "style": "IPY_MODEL_5bb0ab08c5534c829b4b7982280868a8",
            "_dom_classes": [],
            "description": "",
            "_model_name": "FloatProgressModel",
            "bar_style": "success",
            "max": 764566772,
            "_view_module": "@jupyter-widgets/controls",
            "_model_module_version": "1.5.0",
            "value": 764566772,
            "_view_count": null,
            "_view_module_version": "1.5.0",
            "orientation": "horizontal",
            "min": 0,
            "description_tooltip": null,
            "_model_module": "@jupyter-widgets/controls",
            "layout": "IPY_MODEL_8397e227162d4f3eaa9ae6710381821a"
          }
        },
        "9901944729744604b2e484638b762974": {
          "model_module": "@jupyter-widgets/controls",
          "model_name": "HTMLModel",
          "model_module_version": "1.5.0",
          "state": {
            "_view_name": "HTMLView",
            "style": "IPY_MODEL_8bc0f1e920294153b40bf87794fe5bc5",
            "_dom_classes": [],
            "description": "",
            "_model_name": "HTMLModel",
            "placeholder": "​",
            "_view_module": "@jupyter-widgets/controls",
            "_model_module_version": "1.5.0",
            "value": " 729M/729M [00:20&lt;00:00, 39.8MB/s]",
            "_view_count": null,
            "_view_module_version": "1.5.0",
            "description_tooltip": null,
            "_model_module": "@jupyter-widgets/controls",
            "layout": "IPY_MODEL_1dc1e800a3db461e8e4429498123b63b"
          }
        },
        "810034e07c1b4fd2881c464e5db0f46c": {
          "model_module": "@jupyter-widgets/controls",
          "model_name": "DescriptionStyleModel",
          "model_module_version": "1.5.0",
          "state": {
            "_view_name": "StyleView",
            "_model_name": "DescriptionStyleModel",
            "description_width": "",
            "_view_module": "@jupyter-widgets/base",
            "_model_module_version": "1.5.0",
            "_view_count": null,
            "_view_module_version": "1.2.0",
            "_model_module": "@jupyter-widgets/controls"
          }
        },
        "834565fb70b045b0a6ff4a16b09d300e": {
          "model_module": "@jupyter-widgets/base",
          "model_name": "LayoutModel",
          "model_module_version": "1.2.0",
          "state": {
            "_view_name": "LayoutView",
            "grid_template_rows": null,
            "right": null,
            "justify_content": null,
            "_view_module": "@jupyter-widgets/base",
            "overflow": null,
            "_model_module_version": "1.2.0",
            "_view_count": null,
            "flex_flow": null,
            "width": null,
            "min_width": null,
            "border": null,
            "align_items": null,
            "bottom": null,
            "_model_module": "@jupyter-widgets/base",
            "top": null,
            "grid_column": null,
            "overflow_y": null,
            "overflow_x": null,
            "grid_auto_flow": null,
            "grid_area": null,
            "grid_template_columns": null,
            "flex": null,
            "_model_name": "LayoutModel",
            "justify_items": null,
            "grid_row": null,
            "max_height": null,
            "align_content": null,
            "visibility": null,
            "align_self": null,
            "height": null,
            "min_height": null,
            "padding": null,
            "grid_auto_rows": null,
            "grid_gap": null,
            "max_width": null,
            "order": null,
            "_view_module_version": "1.2.0",
            "grid_template_areas": null,
            "object_position": null,
            "object_fit": null,
            "grid_auto_columns": null,
            "margin": null,
            "display": null,
            "left": null
          }
        },
        "5bb0ab08c5534c829b4b7982280868a8": {
          "model_module": "@jupyter-widgets/controls",
          "model_name": "ProgressStyleModel",
          "model_module_version": "1.5.0",
          "state": {
            "_view_name": "StyleView",
            "_model_name": "ProgressStyleModel",
            "description_width": "",
            "_view_module": "@jupyter-widgets/base",
            "_model_module_version": "1.5.0",
            "_view_count": null,
            "_view_module_version": "1.2.0",
            "bar_color": null,
            "_model_module": "@jupyter-widgets/controls"
          }
        },
        "8397e227162d4f3eaa9ae6710381821a": {
          "model_module": "@jupyter-widgets/base",
          "model_name": "LayoutModel",
          "model_module_version": "1.2.0",
          "state": {
            "_view_name": "LayoutView",
            "grid_template_rows": null,
            "right": null,
            "justify_content": null,
            "_view_module": "@jupyter-widgets/base",
            "overflow": null,
            "_model_module_version": "1.2.0",
            "_view_count": null,
            "flex_flow": null,
            "width": null,
            "min_width": null,
            "border": null,
            "align_items": null,
            "bottom": null,
            "_model_module": "@jupyter-widgets/base",
            "top": null,
            "grid_column": null,
            "overflow_y": null,
            "overflow_x": null,
            "grid_auto_flow": null,
            "grid_area": null,
            "grid_template_columns": null,
            "flex": null,
            "_model_name": "LayoutModel",
            "justify_items": null,
            "grid_row": null,
            "max_height": null,
            "align_content": null,
            "visibility": null,
            "align_self": null,
            "height": null,
            "min_height": null,
            "padding": null,
            "grid_auto_rows": null,
            "grid_gap": null,
            "max_width": null,
            "order": null,
            "_view_module_version": "1.2.0",
            "grid_template_areas": null,
            "object_position": null,
            "object_fit": null,
            "grid_auto_columns": null,
            "margin": null,
            "display": null,
            "left": null
          }
        },
        "8bc0f1e920294153b40bf87794fe5bc5": {
          "model_module": "@jupyter-widgets/controls",
          "model_name": "DescriptionStyleModel",
          "model_module_version": "1.5.0",
          "state": {
            "_view_name": "StyleView",
            "_model_name": "DescriptionStyleModel",
            "description_width": "",
            "_view_module": "@jupyter-widgets/base",
            "_model_module_version": "1.5.0",
            "_view_count": null,
            "_view_module_version": "1.2.0",
            "_model_module": "@jupyter-widgets/controls"
          }
        },
        "1dc1e800a3db461e8e4429498123b63b": {
          "model_module": "@jupyter-widgets/base",
          "model_name": "LayoutModel",
          "model_module_version": "1.2.0",
          "state": {
            "_view_name": "LayoutView",
            "grid_template_rows": null,
            "right": null,
            "justify_content": null,
            "_view_module": "@jupyter-widgets/base",
            "overflow": null,
            "_model_module_version": "1.2.0",
            "_view_count": null,
            "flex_flow": null,
            "width": null,
            "min_width": null,
            "border": null,
            "align_items": null,
            "bottom": null,
            "_model_module": "@jupyter-widgets/base",
            "top": null,
            "grid_column": null,
            "overflow_y": null,
            "overflow_x": null,
            "grid_auto_flow": null,
            "grid_area": null,
            "grid_template_columns": null,
            "flex": null,
            "_model_name": "LayoutModel",
            "justify_items": null,
            "grid_row": null,
            "max_height": null,
            "align_content": null,
            "visibility": null,
            "align_self": null,
            "height": null,
            "min_height": null,
            "padding": null,
            "grid_auto_rows": null,
            "grid_gap": null,
            "max_width": null,
            "order": null,
            "_view_module_version": "1.2.0",
            "grid_template_areas": null,
            "object_position": null,
            "object_fit": null,
            "grid_auto_columns": null,
            "margin": null,
            "display": null,
            "left": null
          }
        }
      }
    }
  },
  "cells": [
    {
      "cell_type": "markdown",
      "metadata": {
        "id": "view-in-github",
        "colab_type": "text"
      },
      "source": [
        "<a href=\"https://colab.research.google.com/github/ashikshafi08/Kaggle_Competitions/blob/main/feedback_prize_essay/NBME_Baseline.ipynb\" target=\"_parent\"><img src=\"https://colab.research.google.com/assets/colab-badge.svg\" alt=\"Open In Colab\"/></a>"
      ]
    },
    {
      "cell_type": "code",
      "execution_count": 1,
      "metadata": {
        "colab": {
          "base_uri": "https://localhost:8080/"
        },
        "id": "wgaTemC0PgRR",
        "outputId": "20db2efd-4acb-4372-d880-5be16f549e6c"
      },
      "outputs": [
        {
          "output_type": "stream",
          "name": "stdout",
          "text": [
            "Mounted at /content/drive/\n"
          ]
        }
      ],
      "source": [
        "from google.colab import drive\n",
        "drive.mount('/content/drive/');"
      ]
    },
    {
      "cell_type": "markdown",
      "source": [
        "Have these files inside your file directory. \n",
        "\n",
        "\n",
        "![Screenshot 2022-03-01 at 1.27.48 AM.png](data:image/png;base64,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)"
      ],
      "metadata": {
        "id": "dEE6Zb9_6JS1"
      }
    },
    {
      "cell_type": "code",
      "source": [
        "# Installing the hugging face library\n",
        "!pip install transformers"
      ],
      "metadata": {
        "colab": {
          "base_uri": "https://localhost:8080/"
        },
        "id": "VEG8kl_txw6S",
        "outputId": "d9123bbc-15db-467d-b772-6d031551e445"
      },
      "execution_count": 2,
      "outputs": [
        {
          "output_type": "stream",
          "name": "stdout",
          "text": [
            "Collecting transformers\n",
            "  Downloading transformers-4.16.2-py3-none-any.whl (3.5 MB)\n",
            "\u001b[K     |████████████████████████████████| 3.5 MB 5.6 MB/s \n",
            "\u001b[?25hRequirement already satisfied: filelock in /usr/local/lib/python3.7/dist-packages (from transformers) (3.6.0)\n",
            "Requirement already satisfied: packaging>=20.0 in /usr/local/lib/python3.7/dist-packages (from transformers) (21.3)\n",
            "Collecting tokenizers!=0.11.3,>=0.10.1\n",
            "  Downloading tokenizers-0.11.6-cp37-cp37m-manylinux_2_12_x86_64.manylinux2010_x86_64.whl (6.5 MB)\n",
            "\u001b[K     |████████████████████████████████| 6.5 MB 42.2 MB/s \n",
            "\u001b[?25hRequirement already satisfied: tqdm>=4.27 in /usr/local/lib/python3.7/dist-packages (from transformers) (4.62.3)\n",
            "Collecting sacremoses\n",
            "  Downloading sacremoses-0.0.47-py2.py3-none-any.whl (895 kB)\n",
            "\u001b[K     |████████████████████████████████| 895 kB 46.2 MB/s \n",
            "\u001b[?25hRequirement already satisfied: numpy>=1.17 in /usr/local/lib/python3.7/dist-packages (from transformers) (1.21.5)\n",
            "Collecting huggingface-hub<1.0,>=0.1.0\n",
            "  Downloading huggingface_hub-0.4.0-py3-none-any.whl (67 kB)\n",
            "\u001b[K     |████████████████████████████████| 67 kB 5.4 MB/s \n",
            "\u001b[?25hCollecting pyyaml>=5.1\n",
            "  Downloading PyYAML-6.0-cp37-cp37m-manylinux_2_5_x86_64.manylinux1_x86_64.manylinux_2_12_x86_64.manylinux2010_x86_64.whl (596 kB)\n",
            "\u001b[K     |████████████████████████████████| 596 kB 52.3 MB/s \n",
            "\u001b[?25hRequirement already satisfied: regex!=2019.12.17 in /usr/local/lib/python3.7/dist-packages (from transformers) (2019.12.20)\n",
            "Requirement already satisfied: requests in /usr/local/lib/python3.7/dist-packages (from transformers) (2.23.0)\n",
            "Requirement already satisfied: importlib-metadata in /usr/local/lib/python3.7/dist-packages (from transformers) (4.11.1)\n",
            "Requirement already satisfied: typing-extensions>=3.7.4.3 in /usr/local/lib/python3.7/dist-packages (from huggingface-hub<1.0,>=0.1.0->transformers) (3.10.0.2)\n",
            "Requirement already satisfied: pyparsing!=3.0.5,>=2.0.2 in /usr/local/lib/python3.7/dist-packages (from packaging>=20.0->transformers) (3.0.7)\n",
            "Requirement already satisfied: zipp>=0.5 in /usr/local/lib/python3.7/dist-packages (from importlib-metadata->transformers) (3.7.0)\n",
            "Requirement already satisfied: urllib3!=1.25.0,!=1.25.1,<1.26,>=1.21.1 in /usr/local/lib/python3.7/dist-packages (from requests->transformers) (1.24.3)\n",
            "Requirement already satisfied: certifi>=2017.4.17 in /usr/local/lib/python3.7/dist-packages (from requests->transformers) (2021.10.8)\n",
            "Requirement already satisfied: idna<3,>=2.5 in /usr/local/lib/python3.7/dist-packages (from requests->transformers) (2.10)\n",
            "Requirement already satisfied: chardet<4,>=3.0.2 in /usr/local/lib/python3.7/dist-packages (from requests->transformers) (3.0.4)\n",
            "Requirement already satisfied: six in /usr/local/lib/python3.7/dist-packages (from sacremoses->transformers) (1.15.0)\n",
            "Requirement already satisfied: click in /usr/local/lib/python3.7/dist-packages (from sacremoses->transformers) (7.1.2)\n",
            "Requirement already satisfied: joblib in /usr/local/lib/python3.7/dist-packages (from sacremoses->transformers) (1.1.0)\n",
            "Installing collected packages: pyyaml, tokenizers, sacremoses, huggingface-hub, transformers\n",
            "  Attempting uninstall: pyyaml\n",
            "    Found existing installation: PyYAML 3.13\n",
            "    Uninstalling PyYAML-3.13:\n",
            "      Successfully uninstalled PyYAML-3.13\n",
            "Successfully installed huggingface-hub-0.4.0 pyyaml-6.0 sacremoses-0.0.47 tokenizers-0.11.6 transformers-4.16.2\n"
          ]
        }
      ]
    },
    {
      "cell_type": "code",
      "source": [
        "# Specifying the path for the data filees \n",
        "\n",
        "train_files_path = '/content/drive/MyDrive/Kaggle_Competition/feedback_prize_eval/train/'\n",
        "test_files_path = '/content/drive/MyDrive/Kaggle_Competition/feedback_prize_eval/test/'\n",
        "train_csv_path = '/content/drive/MyDrive/Kaggle_Competition/feedback_prize_eval/train.csv'\n",
        "\n",
        "# Importing the libs we need \n",
        "import pandas as pd \n",
        "import numpy as np\n",
        "import os \n",
        "import matplotlib.pyplot as plt\n",
        "import tensorflow as tf\n",
        "import transformers\n",
        "#from transformers import *\n",
        "from tensorflow.keras import layers \n",
        "\n",
        "\n",
        "# Veiwing the first few examples of the train dataframe\n",
        "\n",
        "train_df = pd.read_csv(train_csv_path)\n",
        "train_df.head(10)"
      ],
      "metadata": {
        "colab": {
          "base_uri": "https://localhost:8080/",
          "height": 363
        },
        "id": "Run48_xTRidy",
        "outputId": "717fc385-1af3-41dc-ca98-97ca01cacbb2"
      },
      "execution_count": 3,
      "outputs": [
        {
          "output_type": "execute_result",
          "data": {
            "text/html": [
              "\n",
              "  <div id=\"df-e75dc679-6ac4-4a7b-817d-6300b1562578\">\n",
              "    <div class=\"colab-df-container\">\n",
              "      <div>\n",
              "<style scoped>\n",
              "    .dataframe tbody tr th:only-of-type {\n",
              "        vertical-align: middle;\n",
              "    }\n",
              "\n",
              "    .dataframe tbody tr th {\n",
              "        vertical-align: top;\n",
              "    }\n",
              "\n",
              "    .dataframe thead th {\n",
              "        text-align: right;\n",
              "    }\n",
              "</style>\n",
              "<table border=\"1\" class=\"dataframe\">\n",
              "  <thead>\n",
              "    <tr style=\"text-align: right;\">\n",
              "      <th></th>\n",
              "      <th>id</th>\n",
              "      <th>discourse_id</th>\n",
              "      <th>discourse_start</th>\n",
              "      <th>discourse_end</th>\n",
              "      <th>discourse_text</th>\n",
              "      <th>discourse_type</th>\n",
              "      <th>discourse_type_num</th>\n",
              "      <th>predictionstring</th>\n",
              "    </tr>\n",
              "  </thead>\n",
              "  <tbody>\n",
              "    <tr>\n",
              "      <th>0</th>\n",
              "      <td>423A1CA112E2</td>\n",
              "      <td>1.622628e+12</td>\n",
              "      <td>8.0</td>\n",
              "      <td>229.0</td>\n",
              "      <td>Modern humans today are always on their phone....</td>\n",
              "      <td>Lead</td>\n",
              "      <td>Lead 1</td>\n",
              "      <td>1 2 3 4 5 6 7 8 9 10 11 12 13 14 15 16 17 18 1...</td>\n",
              "    </tr>\n",
              "    <tr>\n",
              "      <th>1</th>\n",
              "      <td>423A1CA112E2</td>\n",
              "      <td>1.622628e+12</td>\n",
              "      <td>230.0</td>\n",
              "      <td>312.0</td>\n",
              "      <td>They are some really bad consequences when stu...</td>\n",
              "      <td>Position</td>\n",
              "      <td>Position 1</td>\n",
              "      <td>45 46 47 48 49 50 51 52 53 54 55 56 57 58 59</td>\n",
              "    </tr>\n",
              "    <tr>\n",
              "      <th>2</th>\n",
              "      <td>423A1CA112E2</td>\n",
              "      <td>1.622628e+12</td>\n",
              "      <td>313.0</td>\n",
              "      <td>401.0</td>\n",
              "      <td>Some certain areas in the United States ban ph...</td>\n",
              "      <td>Evidence</td>\n",
              "      <td>Evidence 1</td>\n",
              "      <td>60 61 62 63 64 65 66 67 68 69 70 71 72 73 74 75</td>\n",
              "    </tr>\n",
              "    <tr>\n",
              "      <th>3</th>\n",
              "      <td>423A1CA112E2</td>\n",
              "      <td>1.622628e+12</td>\n",
              "      <td>402.0</td>\n",
              "      <td>758.0</td>\n",
              "      <td>When people have phones, they know about certa...</td>\n",
              "      <td>Evidence</td>\n",
              "      <td>Evidence 2</td>\n",
              "      <td>76 77 78 79 80 81 82 83 84 85 86 87 88 89 90 9...</td>\n",
              "    </tr>\n",
              "    <tr>\n",
              "      <th>4</th>\n",
              "      <td>423A1CA112E2</td>\n",
              "      <td>1.622628e+12</td>\n",
              "      <td>759.0</td>\n",
              "      <td>886.0</td>\n",
              "      <td>Driving is one of the way how to get around. P...</td>\n",
              "      <td>Claim</td>\n",
              "      <td>Claim 1</td>\n",
              "      <td>139 140 141 142 143 144 145 146 147 148 149 15...</td>\n",
              "    </tr>\n",
              "    <tr>\n",
              "      <th>5</th>\n",
              "      <td>423A1CA112E2</td>\n",
              "      <td>1.622628e+12</td>\n",
              "      <td>887.0</td>\n",
              "      <td>1150.0</td>\n",
              "      <td>That's why there's a thing that's called no te...</td>\n",
              "      <td>Evidence</td>\n",
              "      <td>Evidence 3</td>\n",
              "      <td>163 164 165 166 167 168 169 170 171 172 173 17...</td>\n",
              "    </tr>\n",
              "    <tr>\n",
              "      <th>6</th>\n",
              "      <td>423A1CA112E2</td>\n",
              "      <td>1.622628e+12</td>\n",
              "      <td>1151.0</td>\n",
              "      <td>1533.0</td>\n",
              "      <td>Sometimes on the news there is either an accid...</td>\n",
              "      <td>Evidence</td>\n",
              "      <td>Evidence 4</td>\n",
              "      <td>211 212 213 214 215 216 217 218 219 220 221 22...</td>\n",
              "    </tr>\n",
              "    <tr>\n",
              "      <th>7</th>\n",
              "      <td>423A1CA112E2</td>\n",
              "      <td>1.622628e+12</td>\n",
              "      <td>1534.0</td>\n",
              "      <td>1602.0</td>\n",
              "      <td>Phones are fine to use and it's also the best ...</td>\n",
              "      <td>Claim</td>\n",
              "      <td>Claim 2</td>\n",
              "      <td>282 283 284 285 286 287 288 289 290 291 292 29...</td>\n",
              "    </tr>\n",
              "    <tr>\n",
              "      <th>8</th>\n",
              "      <td>423A1CA112E2</td>\n",
              "      <td>1.622628e+12</td>\n",
              "      <td>1603.0</td>\n",
              "      <td>1890.0</td>\n",
              "      <td>If you go through a problem and you can't find...</td>\n",
              "      <td>Evidence</td>\n",
              "      <td>Evidence 5</td>\n",
              "      <td>297 298 299 300 301 302 303 304 305 306 307 30...</td>\n",
              "    </tr>\n",
              "    <tr>\n",
              "      <th>9</th>\n",
              "      <td>423A1CA112E2</td>\n",
              "      <td>1.622628e+12</td>\n",
              "      <td>1891.0</td>\n",
              "      <td>2027.0</td>\n",
              "      <td>The news always updated when people do somethi...</td>\n",
              "      <td>Concluding Statement</td>\n",
              "      <td>Concluding Statement 1</td>\n",
              "      <td>355 356 357 358 359 360 361 362 363 364 365 36...</td>\n",
              "    </tr>\n",
              "  </tbody>\n",
              "</table>\n",
              "</div>\n",
              "      <button class=\"colab-df-convert\" onclick=\"convertToInteractive('df-e75dc679-6ac4-4a7b-817d-6300b1562578')\"\n",
              "              title=\"Convert this dataframe to an interactive table.\"\n",
              "              style=\"display:none;\">\n",
              "        \n",
              "  <svg xmlns=\"http://www.w3.org/2000/svg\" height=\"24px\"viewBox=\"0 0 24 24\"\n",
              "       width=\"24px\">\n",
              "    <path d=\"M0 0h24v24H0V0z\" fill=\"none\"/>\n",
              "    <path d=\"M18.56 5.44l.94 2.06.94-2.06 2.06-.94-2.06-.94-.94-2.06-.94 2.06-2.06.94zm-11 1L8.5 8.5l.94-2.06 2.06-.94-2.06-.94L8.5 2.5l-.94 2.06-2.06.94zm10 10l.94 2.06.94-2.06 2.06-.94-2.06-.94-.94-2.06-.94 2.06-2.06.94z\"/><path d=\"M17.41 7.96l-1.37-1.37c-.4-.4-.92-.59-1.43-.59-.52 0-1.04.2-1.43.59L10.3 9.45l-7.72 7.72c-.78.78-.78 2.05 0 2.83L4 21.41c.39.39.9.59 1.41.59.51 0 1.02-.2 1.41-.59l7.78-7.78 2.81-2.81c.8-.78.8-2.07 0-2.86zM5.41 20L4 18.59l7.72-7.72 1.47 1.35L5.41 20z\"/>\n",
              "  </svg>\n",
              "      </button>\n",
              "      \n",
              "  <style>\n",
              "    .colab-df-container {\n",
              "      display:flex;\n",
              "      flex-wrap:wrap;\n",
              "      gap: 12px;\n",
              "    }\n",
              "\n",
              "    .colab-df-convert {\n",
              "      background-color: #E8F0FE;\n",
              "      border: none;\n",
              "      border-radius: 50%;\n",
              "      cursor: pointer;\n",
              "      display: none;\n",
              "      fill: #1967D2;\n",
              "      height: 32px;\n",
              "      padding: 0 0 0 0;\n",
              "      width: 32px;\n",
              "    }\n",
              "\n",
              "    .colab-df-convert:hover {\n",
              "      background-color: #E2EBFA;\n",
              "      box-shadow: 0px 1px 2px rgba(60, 64, 67, 0.3), 0px 1px 3px 1px rgba(60, 64, 67, 0.15);\n",
              "      fill: #174EA6;\n",
              "    }\n",
              "\n",
              "    [theme=dark] .colab-df-convert {\n",
              "      background-color: #3B4455;\n",
              "      fill: #D2E3FC;\n",
              "    }\n",
              "\n",
              "    [theme=dark] .colab-df-convert:hover {\n",
              "      background-color: #434B5C;\n",
              "      box-shadow: 0px 1px 3px 1px rgba(0, 0, 0, 0.15);\n",
              "      filter: drop-shadow(0px 1px 2px rgba(0, 0, 0, 0.3));\n",
              "      fill: #FFFFFF;\n",
              "    }\n",
              "  </style>\n",
              "\n",
              "      <script>\n",
              "        const buttonEl =\n",
              "          document.querySelector('#df-e75dc679-6ac4-4a7b-817d-6300b1562578 button.colab-df-convert');\n",
              "        buttonEl.style.display =\n",
              "          google.colab.kernel.accessAllowed ? 'block' : 'none';\n",
              "\n",
              "        async function convertToInteractive(key) {\n",
              "          const element = document.querySelector('#df-e75dc679-6ac4-4a7b-817d-6300b1562578');\n",
              "          const dataTable =\n",
              "            await google.colab.kernel.invokeFunction('convertToInteractive',\n",
              "                                                     [key], {});\n",
              "          if (!dataTable) return;\n",
              "\n",
              "          const docLinkHtml = 'Like what you see? Visit the ' +\n",
              "            '<a target=\"_blank\" href=https://colab.research.google.com/notebooks/data_table.ipynb>data table notebook</a>'\n",
              "            + ' to learn more about interactive tables.';\n",
              "          element.innerHTML = '';\n",
              "          dataTable['output_type'] = 'display_data';\n",
              "          await google.colab.output.renderOutput(dataTable, element);\n",
              "          const docLink = document.createElement('div');\n",
              "          docLink.innerHTML = docLinkHtml;\n",
              "          element.appendChild(docLink);\n",
              "        }\n",
              "      </script>\n",
              "    </div>\n",
              "  </div>\n",
              "  "
            ],
            "text/plain": [
              "             id  ...                                   predictionstring\n",
              "0  423A1CA112E2  ...  1 2 3 4 5 6 7 8 9 10 11 12 13 14 15 16 17 18 1...\n",
              "1  423A1CA112E2  ...       45 46 47 48 49 50 51 52 53 54 55 56 57 58 59\n",
              "2  423A1CA112E2  ...    60 61 62 63 64 65 66 67 68 69 70 71 72 73 74 75\n",
              "3  423A1CA112E2  ...  76 77 78 79 80 81 82 83 84 85 86 87 88 89 90 9...\n",
              "4  423A1CA112E2  ...  139 140 141 142 143 144 145 146 147 148 149 15...\n",
              "5  423A1CA112E2  ...  163 164 165 166 167 168 169 170 171 172 173 17...\n",
              "6  423A1CA112E2  ...  211 212 213 214 215 216 217 218 219 220 221 22...\n",
              "7  423A1CA112E2  ...  282 283 284 285 286 287 288 289 290 291 292 29...\n",
              "8  423A1CA112E2  ...  297 298 299 300 301 302 303 304 305 306 307 30...\n",
              "9  423A1CA112E2  ...  355 356 357 358 359 360 361 362 363 364 365 36...\n",
              "\n",
              "[10 rows x 8 columns]"
            ]
          },
          "metadata": {},
          "execution_count": 3
        }
      ]
    },
    {
      "cell_type": "code",
      "source": [
        "# Looking in to the firrst few examples of the train files and reading a random txt file \n",
        "\n",
        "import random \n",
        "\n",
        "random_path = train_files_path + random.choice(os.listdir(train_files_path))\n",
        "file_ = open(random_path)\n",
        "file_.readlines()\n",
        "\n"
      ],
      "metadata": {
        "colab": {
          "base_uri": "https://localhost:8080/"
        },
        "id": "FfoAD-cHsc4W",
        "outputId": "f3a1e1ef-32d5-43d7-d0b8-125013d3b980"
      },
      "execution_count": 4,
      "outputs": [
        {
          "output_type": "execute_result",
          "data": {
            "text/plain": [
              "['To many peope it was confusing, but to me, it was life. Every night, I would come home exauhsted and tierd, but I knew I had to keep going in order to reach what I dreamed. Of course I put in a lot of labor, with barely any breaks, but if you think about it, its nothing compared to \"the real deal\" If you have a fear, at the end you will be over it and want to do that thing more often! When its over, it is something to be proud about and make sure that people know it! There is no reason not to talk about it and no reason not to brag, only because you worked so hard to get where you are now! If you want a chance to be able to say you did smething someone dreams of, its now!\\n',\n",
              " '\\n',\n",
              " \"This is a one in a life time chance, and if you miss it up, you wil regret it! In some peoples mind, they think that Seagoing isnt usefull, but they are wrong. People also think that all we have to do is work, but thats not true, sometimes we get a chance to look at the beutiful views and feature take, thats always a plesure! Going to Seagoing is much more than an adventure, it's a life time experience. You get to see different aspects and feature, it will blow your mind! You can never get enough of the people, animals, and views! You wil always want to make sure that you have a chance to talk and hang around because people have some pretty cool stories you would never get over!\\n\",\n",
              " '\\n',\n",
              " 'If you want something to never stop loving, think about the views, people, and animals at Seagoing. It will take your breath away! Not only will you have a chance to relax, but you will have a chance to try new things. Like I always say, To many people it was confusing, but to me, it was life! ']"
            ]
          },
          "metadata": {},
          "execution_count": 4
        }
      ]
    },
    {
      "cell_type": "markdown",
      "source": [
        "#### Things that are about to be here, \n",
        "- We gonna use LongFormer as an backbone \n",
        "- Use a NER Formulation \n",
        "- one fold of cv \n",
        "\n",
        "\n",
        "Make changes that will convert this problem into a Question-Answering format and we can try with different backbones of the model. \n",
        "\n",
        "Since its an one fold it trains with 90% of the data and validates on 10% of the rest available data. \n",
        "\n",
        "Furthermore we can convert this thing into a K-Fold cross and train on 100% data with proper LB. \n",
        "\n",
        "To know more about LongFormer. (https://huggingface.co/docs/transformers/model_doc/longformer)\n",
        "\n",
        "In a nutshell, \n",
        "- its similar to Roberta but can accept inputs as wide as 4096 tokens. "
      ],
      "metadata": {
        "id": "5X2m7d5ftFZc"
      }
    },
    {
      "cell_type": "code",
      "source": [
        "# Initializing certain hyper parameters \n",
        "\n",
        "\n",
        "# Version for saving the model weights \n",
        "VER = 12 \n",
        "\n",
        "# Load tokens from already trained model (or something like that)\n",
        "#LOAD_TOKENS_FROM = ''\n",
        "\n",
        "# If the variable sets to be None then we will download a tokenizer from the internet and also train a new model. \n",
        "\n",
        "\n",
        "# Downloading the model \n",
        "# If the downlaoded model path is none then create a new path and download the model in it \n",
        "DOWNLOADED_MODEL_PATH = None \n",
        "if DOWNLOADED_MODEL_PATH is None:\n",
        "  DOWNLOADED_MODEL_PATH = 'model'\n",
        "\n",
        "# Specifying the model name that has to be downloaded \n",
        "MODEL_NAME = 'allenai/longformer-base-4096'\n",
        "\n",
        "# Imports that needed to be done in order to download the helper class from HuggingFace \n",
        "from transformers import AutoConfig, AutoTokenizer , TFAutoModel\n",
        "\n",
        "# Download the model from hugging face \n",
        "if DOWNLOADED_MODEL_PATH == 'model':\n",
        "  # make a dir with that name \n",
        "  os.mkdir('model')\n",
        "\n",
        "  # Download the tokenizer for the longformer \n",
        "  tokenizer = AutoTokenizer.from_pretrained(MODEL_NAME)\n",
        "  # Saving it as pre-trained model to a folder \n",
        "  tokenizer.save_pretrained('model')\n",
        "\n",
        "  # Downloading the configuration files for this transformer model \n",
        "  config = AutoConfig.from_pretrained(MODEL_NAME)\n",
        "  # Saving it as a pretrained model \n",
        "  config.save_pretrained('model')\n",
        "\n",
        "  # Creating a backbone for our TF Model (Input the model name and the config file)\n",
        "  backbone = TFAutoModel.from_pretrained(MODEL_NAME , config = config)\n",
        "  backbone.save_pretrained('model')\n",
        "\n",
        "\n"
      ],
      "metadata": {
        "colab": {
          "base_uri": "https://localhost:8080/",
          "height": 284,
          "referenced_widgets": [
            "5fe929371d0842f3a7b33e33daf9abb7",
            "9f773c54c8874856b2d218eea13bebfb",
            "2e702e77ea464b86bb9a714ad26cefbc",
            "594b34dfe5e446e2ab183d7bcda455a0",
            "c763b57920c842f4924b4df42c9d02d8",
            "921545a978e74790910b639ea5022705",
            "2b53faa302044bbfbea60dc08e91b44b",
            "8fc042bf8909479f81c9952ec7535028",
            "964fc6836dff46b2bb73448aecdf12e8",
            "62f14a62c36f4a43850b1a8e15d82548",
            "167e480a0fa54ed69ffb18889452c1ef",
            "f2d21d9253b74a48bbb31503bc2ac467",
            "a840f6c3e2bd43c9a294a352ab167ac1",
            "391f65ae74664b43b0369d85442a2ab8",
            "a7fecf39a177480cae7cc1b3ef9e423e",
            "4f669a2e480d408b97a71c0143eea676",
            "2de170e6fa0c462aa5248a4652f439b6",
            "cce78ea693934d0683939c34a688d391",
            "0caa5bc9f226487ea44b351f07d21444",
            "14f3bcc956024b8a9ded777baf2a069b",
            "cf7fcf3165954740a62c8cacdf6fca6a",
            "9d2037ed462b444fae526c7569cb202f",
            "ee190a4bc6b040ab96d692b6617d275e",
            "cd0aeaf1ad2449529cc2ebb47db61434",
            "4866603477034c30ae6f6d34515c2085",
            "f790e388f80d493f9baa6140e0e07055",
            "74fb1e34cc87490ea85fcfc173a192ab",
            "b57bd61c0de544ee89566e78b29f246e",
            "07a3932885204af5a0185ea6d68af421",
            "475ed3de83354aada8d2af158cee3196",
            "e3f185a04eff4b93af26ee5cbfb00bb0",
            "93c642bbacb848e6b357bffec1d7017a",
            "342c5198b90040b28efa11734d826fc2",
            "15c790d7ca6c433da54800bb5b31fab5",
            "ca04cda969ff47e5a32865e27de568b0",
            "f60be9fc7f46490c8f8f7b91327bd398",
            "a54e5bb41d3c4956a516a0f1077241d0",
            "e3a9c2bd78084479ac7b498ab281cdb2",
            "39a451a099e34c06a2df16b98f2c0c13",
            "565474e4f2ae401b9fcc41f6b6ac0695",
            "c96d52ec5aa94a56b66e8b1a8db87905",
            "ac52b21d27834ee1a1667e8754504584",
            "30f8c0dfbd12407e80fbc0543891b02a",
            "97d9699ea8534772b49a8d3d6413c477",
            "b3891a0f154b4a96a1df220fc504cc88",
            "db8bae7f277e44bda6e306461c22e9bf",
            "30b2346cb8094b13aca2dbbdd5541f45",
            "4eb94d9c8d6a4555aebe194f0819eadc",
            "9901944729744604b2e484638b762974",
            "810034e07c1b4fd2881c464e5db0f46c",
            "834565fb70b045b0a6ff4a16b09d300e",
            "5bb0ab08c5534c829b4b7982280868a8",
            "8397e227162d4f3eaa9ae6710381821a",
            "8bc0f1e920294153b40bf87794fe5bc5",
            "1dc1e800a3db461e8e4429498123b63b"
          ]
        },
        "id": "c_ibIxHNuhZy",
        "outputId": "1cdafe4a-adec-4c92-de28-885c80270c82"
      },
      "execution_count": 5,
      "outputs": [
        {
          "output_type": "display_data",
          "data": {
            "application/vnd.jupyter.widget-view+json": {
              "model_id": "5fe929371d0842f3a7b33e33daf9abb7",
              "version_minor": 0,
              "version_major": 2
            },
            "text/plain": [
              "Downloading:   0%|          | 0.00/694 [00:00<?, ?B/s]"
            ]
          },
          "metadata": {}
        },
        {
          "output_type": "display_data",
          "data": {
            "application/vnd.jupyter.widget-view+json": {
              "model_id": "f2d21d9253b74a48bbb31503bc2ac467",
              "version_minor": 0,
              "version_major": 2
            },
            "text/plain": [
              "Downloading:   0%|          | 0.00/878k [00:00<?, ?B/s]"
            ]
          },
          "metadata": {}
        },
        {
          "output_type": "display_data",
          "data": {
            "application/vnd.jupyter.widget-view+json": {
              "model_id": "ee190a4bc6b040ab96d692b6617d275e",
              "version_minor": 0,
              "version_major": 2
            },
            "text/plain": [
              "Downloading:   0%|          | 0.00/446k [00:00<?, ?B/s]"
            ]
          },
          "metadata": {}
        },
        {
          "output_type": "display_data",
          "data": {
            "application/vnd.jupyter.widget-view+json": {
              "model_id": "15c790d7ca6c433da54800bb5b31fab5",
              "version_minor": 0,
              "version_major": 2
            },
            "text/plain": [
              "Downloading:   0%|          | 0.00/1.29M [00:00<?, ?B/s]"
            ]
          },
          "metadata": {}
        },
        {
          "output_type": "display_data",
          "data": {
            "application/vnd.jupyter.widget-view+json": {
              "model_id": "b3891a0f154b4a96a1df220fc504cc88",
              "version_minor": 0,
              "version_major": 2
            },
            "text/plain": [
              "Downloading:   0%|          | 0.00/729M [00:00<?, ?B/s]"
            ]
          },
          "metadata": {}
        },
        {
          "output_type": "stream",
          "name": "stderr",
          "text": [
            "Some layers from the model checkpoint at allenai/longformer-base-4096 were not used when initializing TFLongformerModel: ['lm_head']\n",
            "- This IS expected if you are initializing TFLongformerModel from the checkpoint of a model trained on another task or with another architecture (e.g. initializing a BertForSequenceClassification model from a BertForPreTraining model).\n",
            "- This IS NOT expected if you are initializing TFLongformerModel from the checkpoint of a model that you expect to be exactly identical (initializing a BertForSequenceClassification model from a BertForSequenceClassification model).\n",
            "All the layers of TFLongformerModel were initialized from the model checkpoint at allenai/longformer-base-4096.\n",
            "If your task is similar to the task the model of the checkpoint was trained on, you can already use TFLongformerModel for predictions without further training.\n"
          ]
        }
      ]
    },
    {
      "cell_type": "markdown",
      "source": [
        "The above saves the files\n",
        "\n",
        "- TOKENIZER FILES - merges.txt, tokenizer_config.json, special_tokens_map.json, tokenizer.json, vocab.json\n",
        "- CONFIG FILE - config.json\n",
        "- MODEL WEIGHT FILE - tf_model.h5"
      ],
      "metadata": {
        "id": "i63FOjxUvIUx"
      }
    },
    {
      "cell_type": "code",
      "source": [
        "# The train labels are \n",
        "print('Train Label are \\n')\n",
        "print(train_df.discourse_type.unique())\n",
        "\n",
        "# Storing the unique ids \n",
        "ids = train_df.id.unique()\n",
        "print(f'\\n There are {len(ids)} train texts available in the train folder')"
      ],
      "metadata": {
        "colab": {
          "base_uri": "https://localhost:8080/"
        },
        "id": "HS4FY8Pmzzep",
        "outputId": "a7854b9c-bd81-4cc5-80ac-abf0888c1335"
      },
      "execution_count": 6,
      "outputs": [
        {
          "output_type": "stream",
          "name": "stdout",
          "text": [
            "Train Label are \n",
            "\n",
            "['Lead' 'Position' 'Evidence' 'Claim' 'Concluding Statement'\n",
            " 'Counterclaim' 'Rebuttal']\n",
            "\n",
            " There are 15594 train texts available in the train folder\n"
          ]
        }
      ]
    },
    {
      "cell_type": "markdown",
      "source": [
        "#### Tokenize the train set \n",
        "\n",
        "Here we are convert our train data into NER token array that we can use to train a NER Transformer. We can easily convert this code into a Question Answer format by specifying which target belongs to which class. \n",
        "\n",
        "14 NER arrays to be 14 arrays of start position and end position for each of the 7 classes. "
      ],
      "metadata": {
        "id": "bsWTIV7l8s_9"
      }
    },
    {
      "cell_type": "code",
      "source": [
        "# The max length of the sequence \n",
        "MAX_LEN = 1024 \n",
        "\n",
        "# Tokens and Attention arrays \n",
        "train_tokens = np.zeros((len(ids) , MAX_LEN), dtype = 'int32') # tokens of each text with 1024 sequence length \n",
        "train_attention = np.zeros((len(ids) , MAX_LEN) , dtype = 'int32') \n",
        "\n",
        "\n",
        "# THE 14 CLASSES FOR NER\n",
        "lead_b = np.zeros((len(ids),MAX_LEN))\n",
        "lead_i = np.zeros((len(ids),MAX_LEN))\n",
        "\n",
        "position_b = np.zeros((len(ids),MAX_LEN))\n",
        "position_i = np.zeros((len(ids),MAX_LEN))\n",
        "\n",
        "evidence_b = np.zeros((len(ids),MAX_LEN))\n",
        "evidence_i = np.zeros((len(ids),MAX_LEN))\n",
        "\n",
        "claim_b = np.zeros((len(ids),MAX_LEN))\n",
        "claim_i = np.zeros((len(ids),MAX_LEN))\n",
        "\n",
        "conclusion_b = np.zeros((len(ids),MAX_LEN))\n",
        "conclusion_i = np.zeros((len(ids),MAX_LEN))\n",
        "\n",
        "counterclaim_b = np.zeros((len(ids),MAX_LEN))\n",
        "counterclaim_i = np.zeros((len(ids),MAX_LEN))\n",
        "\n",
        "rebuttal_b = np.zeros((len(ids),MAX_LEN))\n",
        "rebuttal_i = np.zeros((len(ids),MAX_LEN))\n",
        "\n",
        "train_lens = [] # length of train \n",
        "\n",
        "\n",
        "# List of targets for b and i (start and end position)\n",
        "targets_b = [lead_b, position_b, evidence_b, claim_b, conclusion_b, counterclaim_b, rebuttal_b]\n",
        "targets_i = [lead_i, position_i, evidence_i, claim_i, conclusion_i, counterclaim_i, rebuttal_i]\n",
        "\n",
        "# Mapping dictionary for the target class \n",
        "target_map = {'Lead':0, 'Position':1, 'Evidence':2, 'Claim':3, 'Concluding Statement':4,\n",
        "             'Counterclaim':5, 'Rebuttal':6}\n"
      ],
      "metadata": {
        "id": "nwPLhcIRAtdp"
      },
      "execution_count": 7,
      "outputs": []
    },
    {
      "cell_type": "code",
      "source": [
        "a = train_df.groupby('id')['discourse_start']\n",
        "assert(np.sum(a.diff() <= 0) == 0) # Tru \n",
        "from tqdm import tqdm"
      ],
      "metadata": {
        "id": "C5v7xwazA8PZ"
      },
      "execution_count": 8,
      "outputs": []
    },
    {
      "cell_type": "code",
      "source": [
        "\n",
        "# Looping through each training text available in our dir \n",
        "for id_num in tqdm(range(len(ids))):\n",
        "\n",
        "  # If load tokens path available break this loop \n",
        "  #if LOAD_TOKENS_FROM: break \n",
        "\n",
        "  # If not do the below \n",
        "  if id_num % 100 == 0: \n",
        "    print(id_num, ', ', end = '')\n",
        "\n",
        "  # Read the train txt file and tokenize it. Further save it in token arrays \n",
        "  n = ids[id_num]\n",
        "  fname = f'{train_files_path}{n}.txt'\n",
        "  \n",
        "  # Opening the txt file and reading it \n",
        "\n",
        "  txt = open(fname , 'r').read()\n",
        "  train_lens.append(len(txt.split()))\n",
        "  \n",
        "  # Tokenizing the text file \n",
        "  tokens = tokenizer.encode_plus(txt , max_length= MAX_LEN , padding = 'max_length' , \n",
        "                                 truncation = True , return_offsets_mapping = True)\n",
        "  \n",
        "  # Saving it inside the train tokens array \n",
        "  train_tokens[id_num , ] = tokens['input_ids']\n",
        "\n",
        "  # Now storing the attention mask \n",
        "  train_attention[id_num , ] = tokens['attention_mask']\n",
        "\n",
        "  # Find the targets in the text and save it in target arrays \n",
        "  offsets = tokens['offset_mapping'] # has the start and stop mappings \n",
        "  offset_index = 0\n",
        "  df = train_df.loc[train_df.id == n] # n id equals to the id's in the df, loc the entire df with that id \n",
        "  for index , row in df.iterrows():\n",
        "    # Start \n",
        "    a = row.discourse_start \n",
        "    b = row.discourse_end \n",
        "\n",
        "    # If the offset_index greater than total length of the offset mappings (1024) then break the loop\n",
        "    if offset_index > len(offsets) - 1:\n",
        "      break\n",
        "\n",
        "    # Unpacking the tuple \n",
        "    c = offsets[offset_index][0]\n",
        "    d = offsets[offset_index][1]\n",
        "\n",
        "    beginning = True\n",
        "\n",
        "    while b>c:\n",
        "      if (c >=a) & (b>=d):\n",
        "        k = target_map[row.discourse_type]\n",
        "        \n",
        "        if beginning:\n",
        "          targets_b[k][id_num][offset_index] = 1 \n",
        "          beginning = False \n",
        "        else:\n",
        "          targets_i[k][id_num][offset_index] = 1\n",
        "\n",
        "      offset_index += 1 \n",
        "      \n",
        "      if offset_index > len(offsets) - 1:\n",
        "        break \n",
        "\n",
        "      c = offsets[offset_index][0]\n",
        "      d = offsets[offset_index][1]"
      ],
      "metadata": {
        "colab": {
          "base_uri": "https://localhost:8080/"
        },
        "id": "sFO30dsRD6Qo",
        "outputId": "54645ca4-19bc-46d0-8bed-95f03c24974e"
      },
      "execution_count": 9,
      "outputs": [
        {
          "output_type": "stream",
          "name": "stderr",
          "text": [
            "\r  0%|          | 0/15594 [00:00<?, ?it/s]"
          ]
        },
        {
          "output_type": "stream",
          "name": "stdout",
          "text": [
            "0 , "
          ]
        },
        {
          "output_type": "stream",
          "name": "stderr",
          "text": [
            "  1%|          | 100/15594 [00:26<1:08:47,  3.75it/s]"
          ]
        },
        {
          "output_type": "stream",
          "name": "stdout",
          "text": [
            "100 , "
          ]
        },
        {
          "output_type": "stream",
          "name": "stderr",
          "text": [
            "  1%|▏         | 209/15594 [03:18<10:45, 23.83it/s]"
          ]
        },
        {
          "output_type": "stream",
          "name": "stdout",
          "text": [
            "200 , "
          ]
        },
        {
          "output_type": "stream",
          "name": "stderr",
          "text": [
            "  2%|▏         | 308/15594 [03:20<04:57, 51.45it/s]"
          ]
        },
        {
          "output_type": "stream",
          "name": "stdout",
          "text": [
            "300 , "
          ]
        },
        {
          "output_type": "stream",
          "name": "stderr",
          "text": [
            "  3%|▎         | 410/15594 [03:22<04:52, 51.94it/s]"
          ]
        },
        {
          "output_type": "stream",
          "name": "stdout",
          "text": [
            "400 , "
          ]
        },
        {
          "output_type": "stream",
          "name": "stderr",
          "text": [
            "  3%|▎         | 507/15594 [03:24<04:35, 54.86it/s]"
          ]
        },
        {
          "output_type": "stream",
          "name": "stdout",
          "text": [
            "500 , "
          ]
        },
        {
          "output_type": "stream",
          "name": "stderr",
          "text": [
            "  4%|▍         | 609/15594 [03:26<04:54, 50.80it/s]"
          ]
        },
        {
          "output_type": "stream",
          "name": "stdout",
          "text": [
            "600 , "
          ]
        },
        {
          "output_type": "stream",
          "name": "stderr",
          "text": [
            "  5%|▍         | 705/15594 [03:27<04:38, 53.47it/s]"
          ]
        },
        {
          "output_type": "stream",
          "name": "stdout",
          "text": [
            "700 , "
          ]
        },
        {
          "output_type": "stream",
          "name": "stderr",
          "text": [
            "  5%|▌         | 806/15594 [03:29<04:46, 51.54it/s]"
          ]
        },
        {
          "output_type": "stream",
          "name": "stdout",
          "text": [
            "800 , "
          ]
        },
        {
          "output_type": "stream",
          "name": "stderr",
          "text": [
            "  6%|▌         | 908/15594 [03:31<04:53, 49.97it/s]"
          ]
        },
        {
          "output_type": "stream",
          "name": "stdout",
          "text": [
            "900 , "
          ]
        },
        {
          "output_type": "stream",
          "name": "stderr",
          "text": [
            "  6%|▋         | 1006/15594 [03:33<05:16, 46.06it/s]"
          ]
        },
        {
          "output_type": "stream",
          "name": "stdout",
          "text": [
            "1000 , "
          ]
        },
        {
          "output_type": "stream",
          "name": "stderr",
          "text": [
            "  7%|▋         | 1106/15594 [03:35<04:48, 50.17it/s]"
          ]
        },
        {
          "output_type": "stream",
          "name": "stdout",
          "text": [
            "1100 , "
          ]
        },
        {
          "output_type": "stream",
          "name": "stderr",
          "text": [
            "  8%|▊         | 1208/15594 [03:37<04:50, 49.47it/s]"
          ]
        },
        {
          "output_type": "stream",
          "name": "stdout",
          "text": [
            "1200 , "
          ]
        },
        {
          "output_type": "stream",
          "name": "stderr",
          "text": [
            "  8%|▊         | 1310/15594 [03:39<04:38, 51.23it/s]"
          ]
        },
        {
          "output_type": "stream",
          "name": "stdout",
          "text": [
            "1300 , "
          ]
        },
        {
          "output_type": "stream",
          "name": "stderr",
          "text": [
            "  9%|▉         | 1405/15594 [03:41<04:42, 50.20it/s]"
          ]
        },
        {
          "output_type": "stream",
          "name": "stdout",
          "text": [
            "1400 , "
          ]
        },
        {
          "output_type": "stream",
          "name": "stderr",
          "text": [
            " 10%|▉         | 1507/15594 [03:43<04:37, 50.76it/s]"
          ]
        },
        {
          "output_type": "stream",
          "name": "stdout",
          "text": [
            "1500 , "
          ]
        },
        {
          "output_type": "stream",
          "name": "stderr",
          "text": [
            " 10%|█         | 1606/15594 [03:45<04:43, 49.34it/s]"
          ]
        },
        {
          "output_type": "stream",
          "name": "stdout",
          "text": [
            "1600 , "
          ]
        },
        {
          "output_type": "stream",
          "name": "stderr",
          "text": [
            " 11%|█         | 1709/15594 [03:47<04:57, 46.70it/s]"
          ]
        },
        {
          "output_type": "stream",
          "name": "stdout",
          "text": [
            "1700 , "
          ]
        },
        {
          "output_type": "stream",
          "name": "stderr",
          "text": [
            " 12%|█▏        | 1806/15594 [03:50<05:21, 42.94it/s]"
          ]
        },
        {
          "output_type": "stream",
          "name": "stdout",
          "text": [
            "1800 , "
          ]
        },
        {
          "output_type": "stream",
          "name": "stderr",
          "text": [
            " 12%|█▏        | 1909/15594 [03:52<05:06, 44.59it/s]"
          ]
        },
        {
          "output_type": "stream",
          "name": "stdout",
          "text": [
            "1900 , "
          ]
        },
        {
          "output_type": "stream",
          "name": "stderr",
          "text": [
            " 13%|█▎        | 2007/15594 [03:54<04:55, 45.95it/s]"
          ]
        },
        {
          "output_type": "stream",
          "name": "stdout",
          "text": [
            "2000 , "
          ]
        },
        {
          "output_type": "stream",
          "name": "stderr",
          "text": [
            " 13%|█▎        | 2105/15594 [03:56<04:58, 45.13it/s]"
          ]
        },
        {
          "output_type": "stream",
          "name": "stdout",
          "text": [
            "2100 , "
          ]
        },
        {
          "output_type": "stream",
          "name": "stderr",
          "text": [
            " 14%|█▍        | 2206/15594 [03:58<05:01, 44.45it/s]"
          ]
        },
        {
          "output_type": "stream",
          "name": "stdout",
          "text": [
            "2200 , "
          ]
        },
        {
          "output_type": "stream",
          "name": "stderr",
          "text": [
            " 15%|█▍        | 2305/15594 [04:00<04:51, 45.60it/s]"
          ]
        },
        {
          "output_type": "stream",
          "name": "stdout",
          "text": [
            "2300 , "
          ]
        },
        {
          "output_type": "stream",
          "name": "stderr",
          "text": [
            " 15%|█▌        | 2405/15594 [04:03<04:58, 44.19it/s]"
          ]
        },
        {
          "output_type": "stream",
          "name": "stdout",
          "text": [
            "2400 , "
          ]
        },
        {
          "output_type": "stream",
          "name": "stderr",
          "text": [
            " 16%|█▌        | 2505/15594 [04:05<05:07, 42.62it/s]"
          ]
        },
        {
          "output_type": "stream",
          "name": "stdout",
          "text": [
            "2500 , "
          ]
        },
        {
          "output_type": "stream",
          "name": "stderr",
          "text": [
            " 17%|█▋        | 2606/15594 [04:07<03:49, 56.65it/s]"
          ]
        },
        {
          "output_type": "stream",
          "name": "stdout",
          "text": [
            "2600 , "
          ]
        },
        {
          "output_type": "stream",
          "name": "stderr",
          "text": [
            " 17%|█▋        | 2706/15594 [04:09<03:44, 57.30it/s]"
          ]
        },
        {
          "output_type": "stream",
          "name": "stdout",
          "text": [
            "2700 , "
          ]
        },
        {
          "output_type": "stream",
          "name": "stderr",
          "text": [
            " 18%|█▊        | 2806/15594 [04:10<03:47, 56.12it/s]"
          ]
        },
        {
          "output_type": "stream",
          "name": "stdout",
          "text": [
            "2800 , "
          ]
        },
        {
          "output_type": "stream",
          "name": "stderr",
          "text": [
            " 19%|█▊        | 2909/15594 [04:12<03:43, 56.66it/s]"
          ]
        },
        {
          "output_type": "stream",
          "name": "stdout",
          "text": [
            "2900 , "
          ]
        },
        {
          "output_type": "stream",
          "name": "stderr",
          "text": [
            " 19%|█▉        | 3007/15594 [04:14<03:49, 54.75it/s]"
          ]
        },
        {
          "output_type": "stream",
          "name": "stdout",
          "text": [
            "3000 , "
          ]
        },
        {
          "output_type": "stream",
          "name": "stderr",
          "text": [
            " 20%|█▉        | 3106/15594 [04:16<03:37, 57.29it/s]"
          ]
        },
        {
          "output_type": "stream",
          "name": "stdout",
          "text": [
            "3100 , "
          ]
        },
        {
          "output_type": "stream",
          "name": "stderr",
          "text": [
            " 21%|██        | 3208/15594 [04:18<03:35, 57.57it/s]"
          ]
        },
        {
          "output_type": "stream",
          "name": "stdout",
          "text": [
            "3200 , "
          ]
        },
        {
          "output_type": "stream",
          "name": "stderr",
          "text": [
            " 21%|██        | 3307/15594 [04:20<04:05, 50.08it/s]"
          ]
        },
        {
          "output_type": "stream",
          "name": "stdout",
          "text": [
            "3300 , "
          ]
        },
        {
          "output_type": "stream",
          "name": "stderr",
          "text": [
            " 22%|██▏       | 3409/15594 [04:22<03:53, 52.10it/s]"
          ]
        },
        {
          "output_type": "stream",
          "name": "stdout",
          "text": [
            "3400 , "
          ]
        },
        {
          "output_type": "stream",
          "name": "stderr",
          "text": [
            " 22%|██▏       | 3508/15594 [04:24<04:01, 50.09it/s]"
          ]
        },
        {
          "output_type": "stream",
          "name": "stdout",
          "text": [
            "3500 , "
          ]
        },
        {
          "output_type": "stream",
          "name": "stderr",
          "text": [
            " 23%|██▎       | 3608/15594 [04:26<04:00, 49.89it/s]"
          ]
        },
        {
          "output_type": "stream",
          "name": "stdout",
          "text": [
            "3600 , "
          ]
        },
        {
          "output_type": "stream",
          "name": "stderr",
          "text": [
            " 24%|██▍       | 3706/15594 [04:28<03:54, 50.78it/s]"
          ]
        },
        {
          "output_type": "stream",
          "name": "stdout",
          "text": [
            "3700 , "
          ]
        },
        {
          "output_type": "stream",
          "name": "stderr",
          "text": [
            " 24%|██▍       | 3808/15594 [04:30<03:51, 50.93it/s]"
          ]
        },
        {
          "output_type": "stream",
          "name": "stdout",
          "text": [
            "3800 , "
          ]
        },
        {
          "output_type": "stream",
          "name": "stderr",
          "text": [
            " 25%|██▌       | 3908/15594 [04:32<03:54, 49.83it/s]"
          ]
        },
        {
          "output_type": "stream",
          "name": "stdout",
          "text": [
            "3900 , "
          ]
        },
        {
          "output_type": "stream",
          "name": "stderr",
          "text": [
            " 26%|██▌       | 4008/15594 [04:34<04:00, 48.17it/s]"
          ]
        },
        {
          "output_type": "stream",
          "name": "stdout",
          "text": [
            "4000 , "
          ]
        },
        {
          "output_type": "stream",
          "name": "stderr",
          "text": [
            " 26%|██▋       | 4109/15594 [04:36<03:36, 53.05it/s]"
          ]
        },
        {
          "output_type": "stream",
          "name": "stdout",
          "text": [
            "4100 , "
          ]
        },
        {
          "output_type": "stream",
          "name": "stderr",
          "text": [
            " 27%|██▋       | 4207/15594 [04:38<03:49, 49.58it/s]"
          ]
        },
        {
          "output_type": "stream",
          "name": "stdout",
          "text": [
            "4200 , "
          ]
        },
        {
          "output_type": "stream",
          "name": "stderr",
          "text": [
            " 28%|██▊       | 4311/15594 [04:39<03:20, 56.16it/s]"
          ]
        },
        {
          "output_type": "stream",
          "name": "stdout",
          "text": [
            "4300 , "
          ]
        },
        {
          "output_type": "stream",
          "name": "stderr",
          "text": [
            " 28%|██▊       | 4407/15594 [04:41<03:32, 52.54it/s]"
          ]
        },
        {
          "output_type": "stream",
          "name": "stdout",
          "text": [
            "4400 , "
          ]
        },
        {
          "output_type": "stream",
          "name": "stderr",
          "text": [
            " 29%|██▉       | 4509/15594 [04:43<03:24, 54.20it/s]"
          ]
        },
        {
          "output_type": "stream",
          "name": "stdout",
          "text": [
            "4500 , "
          ]
        },
        {
          "output_type": "stream",
          "name": "stderr",
          "text": [
            " 30%|██▉       | 4606/15594 [04:45<03:36, 50.84it/s]"
          ]
        },
        {
          "output_type": "stream",
          "name": "stdout",
          "text": [
            "4600 , "
          ]
        },
        {
          "output_type": "stream",
          "name": "stderr",
          "text": [
            " 30%|███       | 4709/15594 [04:47<03:22, 53.67it/s]"
          ]
        },
        {
          "output_type": "stream",
          "name": "stdout",
          "text": [
            "4700 , "
          ]
        },
        {
          "output_type": "stream",
          "name": "stderr",
          "text": [
            " 31%|███       | 4806/15594 [04:49<03:21, 53.49it/s]"
          ]
        },
        {
          "output_type": "stream",
          "name": "stdout",
          "text": [
            "4800 , "
          ]
        },
        {
          "output_type": "stream",
          "name": "stderr",
          "text": [
            " 31%|███▏      | 4909/15594 [04:51<03:21, 52.98it/s]"
          ]
        },
        {
          "output_type": "stream",
          "name": "stdout",
          "text": [
            "4900 , "
          ]
        },
        {
          "output_type": "stream",
          "name": "stderr",
          "text": [
            " 32%|███▏      | 5007/15594 [04:52<03:17, 53.69it/s]"
          ]
        },
        {
          "output_type": "stream",
          "name": "stdout",
          "text": [
            "5000 , "
          ]
        },
        {
          "output_type": "stream",
          "name": "stderr",
          "text": [
            " 33%|███▎      | 5106/15594 [04:54<03:26, 50.82it/s]"
          ]
        },
        {
          "output_type": "stream",
          "name": "stdout",
          "text": [
            "5100 , "
          ]
        },
        {
          "output_type": "stream",
          "name": "stderr",
          "text": [
            " 33%|███▎      | 5209/15594 [04:56<03:06, 55.55it/s]"
          ]
        },
        {
          "output_type": "stream",
          "name": "stdout",
          "text": [
            "5200 , "
          ]
        },
        {
          "output_type": "stream",
          "name": "stderr",
          "text": [
            " 34%|███▍      | 5307/15594 [04:58<03:05, 55.48it/s]"
          ]
        },
        {
          "output_type": "stream",
          "name": "stdout",
          "text": [
            "5300 , "
          ]
        },
        {
          "output_type": "stream",
          "name": "stderr",
          "text": [
            " 35%|███▍      | 5409/15594 [05:00<03:07, 54.25it/s]"
          ]
        },
        {
          "output_type": "stream",
          "name": "stdout",
          "text": [
            "5400 , "
          ]
        },
        {
          "output_type": "stream",
          "name": "stderr",
          "text": [
            " 35%|███▌      | 5509/15594 [05:01<03:00, 55.85it/s]"
          ]
        },
        {
          "output_type": "stream",
          "name": "stdout",
          "text": [
            "5500 , "
          ]
        },
        {
          "output_type": "stream",
          "name": "stderr",
          "text": [
            " 36%|███▌      | 5608/15594 [05:03<02:52, 57.76it/s]"
          ]
        },
        {
          "output_type": "stream",
          "name": "stdout",
          "text": [
            "5600 , "
          ]
        },
        {
          "output_type": "stream",
          "name": "stderr",
          "text": [
            " 37%|███▋      | 5711/15594 [05:05<02:54, 56.70it/s]"
          ]
        },
        {
          "output_type": "stream",
          "name": "stdout",
          "text": [
            "5700 , "
          ]
        },
        {
          "output_type": "stream",
          "name": "stderr",
          "text": [
            " 37%|███▋      | 5807/15594 [05:07<03:02, 53.51it/s]"
          ]
        },
        {
          "output_type": "stream",
          "name": "stdout",
          "text": [
            "5800 , "
          ]
        },
        {
          "output_type": "stream",
          "name": "stderr",
          "text": [
            " 38%|███▊      | 5909/15594 [05:09<03:04, 52.56it/s]"
          ]
        },
        {
          "output_type": "stream",
          "name": "stdout",
          "text": [
            "5900 , "
          ]
        },
        {
          "output_type": "stream",
          "name": "stderr",
          "text": [
            " 39%|███▊      | 6006/15594 [05:11<02:56, 54.33it/s]"
          ]
        },
        {
          "output_type": "stream",
          "name": "stdout",
          "text": [
            "6000 , "
          ]
        },
        {
          "output_type": "stream",
          "name": "stderr",
          "text": [
            " 39%|███▉      | 6110/15594 [05:13<02:57, 53.37it/s]"
          ]
        },
        {
          "output_type": "stream",
          "name": "stdout",
          "text": [
            "6100 , "
          ]
        },
        {
          "output_type": "stream",
          "name": "stderr",
          "text": [
            " 40%|███▉      | 6207/15594 [05:14<02:53, 54.21it/s]"
          ]
        },
        {
          "output_type": "stream",
          "name": "stdout",
          "text": [
            "6200 , "
          ]
        },
        {
          "output_type": "stream",
          "name": "stderr",
          "text": [
            " 40%|████      | 6309/15594 [05:16<02:50, 54.61it/s]"
          ]
        },
        {
          "output_type": "stream",
          "name": "stdout",
          "text": [
            "6300 , "
          ]
        },
        {
          "output_type": "stream",
          "name": "stderr",
          "text": [
            " 41%|████      | 6406/15594 [05:18<02:54, 52.51it/s]"
          ]
        },
        {
          "output_type": "stream",
          "name": "stdout",
          "text": [
            "6400 , "
          ]
        },
        {
          "output_type": "stream",
          "name": "stderr",
          "text": [
            " 42%|████▏     | 6510/15594 [05:20<02:44, 55.15it/s]"
          ]
        },
        {
          "output_type": "stream",
          "name": "stdout",
          "text": [
            "6500 , "
          ]
        },
        {
          "output_type": "stream",
          "name": "stderr",
          "text": [
            " 42%|████▏     | 6610/15594 [05:22<02:35, 57.86it/s]"
          ]
        },
        {
          "output_type": "stream",
          "name": "stdout",
          "text": [
            "6600 , "
          ]
        },
        {
          "output_type": "stream",
          "name": "stderr",
          "text": [
            " 43%|████▎     | 6707/15594 [05:24<02:43, 54.51it/s]"
          ]
        },
        {
          "output_type": "stream",
          "name": "stdout",
          "text": [
            "6700 , "
          ]
        },
        {
          "output_type": "stream",
          "name": "stderr",
          "text": [
            " 44%|████▎     | 6810/15594 [05:25<02:46, 52.68it/s]"
          ]
        },
        {
          "output_type": "stream",
          "name": "stdout",
          "text": [
            "6800 , "
          ]
        },
        {
          "output_type": "stream",
          "name": "stderr",
          "text": [
            " 44%|████▍     | 6906/15594 [05:27<02:35, 55.72it/s]"
          ]
        },
        {
          "output_type": "stream",
          "name": "stdout",
          "text": [
            "6900 , "
          ]
        },
        {
          "output_type": "stream",
          "name": "stderr",
          "text": [
            " 45%|████▍     | 7010/15594 [05:29<02:25, 59.06it/s]"
          ]
        },
        {
          "output_type": "stream",
          "name": "stdout",
          "text": [
            "7000 , "
          ]
        },
        {
          "output_type": "stream",
          "name": "stderr",
          "text": [
            " 46%|████▌     | 7107/15594 [05:31<02:25, 58.52it/s]"
          ]
        },
        {
          "output_type": "stream",
          "name": "stdout",
          "text": [
            "7100 , "
          ]
        },
        {
          "output_type": "stream",
          "name": "stderr",
          "text": [
            " 46%|████▌     | 7209/15594 [05:32<02:19, 60.00it/s]"
          ]
        },
        {
          "output_type": "stream",
          "name": "stdout",
          "text": [
            "7200 , "
          ]
        },
        {
          "output_type": "stream",
          "name": "stderr",
          "text": [
            " 47%|████▋     | 7311/15594 [05:34<02:16, 60.58it/s]"
          ]
        },
        {
          "output_type": "stream",
          "name": "stdout",
          "text": [
            "7300 , "
          ]
        },
        {
          "output_type": "stream",
          "name": "stderr",
          "text": [
            " 47%|████▋     | 7407/15594 [05:36<02:20, 58.31it/s]"
          ]
        },
        {
          "output_type": "stream",
          "name": "stdout",
          "text": [
            "7400 , "
          ]
        },
        {
          "output_type": "stream",
          "name": "stderr",
          "text": [
            " 48%|████▊     | 7509/15594 [05:38<02:17, 58.60it/s]"
          ]
        },
        {
          "output_type": "stream",
          "name": "stdout",
          "text": [
            "7500 , "
          ]
        },
        {
          "output_type": "stream",
          "name": "stderr",
          "text": [
            " 49%|████▉     | 7610/15594 [05:39<02:12, 60.20it/s]"
          ]
        },
        {
          "output_type": "stream",
          "name": "stdout",
          "text": [
            "7600 , "
          ]
        },
        {
          "output_type": "stream",
          "name": "stderr",
          "text": [
            " 49%|████▉     | 7710/15594 [05:41<02:11, 59.89it/s]"
          ]
        },
        {
          "output_type": "stream",
          "name": "stdout",
          "text": [
            "7700 , "
          ]
        },
        {
          "output_type": "stream",
          "name": "stderr",
          "text": [
            " 50%|█████     | 7809/15594 [05:43<02:14, 57.75it/s]"
          ]
        },
        {
          "output_type": "stream",
          "name": "stdout",
          "text": [
            "7800 , "
          ]
        },
        {
          "output_type": "stream",
          "name": "stderr",
          "text": [
            " 51%|█████     | 7911/15594 [05:44<02:07, 60.49it/s]"
          ]
        },
        {
          "output_type": "stream",
          "name": "stdout",
          "text": [
            "7900 , "
          ]
        },
        {
          "output_type": "stream",
          "name": "stderr",
          "text": [
            " 51%|█████▏    | 8009/15594 [05:46<02:12, 57.15it/s]"
          ]
        },
        {
          "output_type": "stream",
          "name": "stdout",
          "text": [
            "8000 , "
          ]
        },
        {
          "output_type": "stream",
          "name": "stderr",
          "text": [
            " 52%|█████▏    | 8106/15594 [05:48<02:08, 58.27it/s]"
          ]
        },
        {
          "output_type": "stream",
          "name": "stdout",
          "text": [
            "8100 , "
          ]
        },
        {
          "output_type": "stream",
          "name": "stderr",
          "text": [
            " 53%|█████▎    | 8210/15594 [05:49<02:08, 57.27it/s]"
          ]
        },
        {
          "output_type": "stream",
          "name": "stdout",
          "text": [
            "8200 , "
          ]
        },
        {
          "output_type": "stream",
          "name": "stderr",
          "text": [
            " 53%|█████▎    | 8306/15594 [05:51<01:58, 61.35it/s]"
          ]
        },
        {
          "output_type": "stream",
          "name": "stdout",
          "text": [
            "8300 , "
          ]
        },
        {
          "output_type": "stream",
          "name": "stderr",
          "text": [
            " 54%|█████▍    | 8409/15594 [05:53<02:00, 59.56it/s]"
          ]
        },
        {
          "output_type": "stream",
          "name": "stdout",
          "text": [
            "8400 , "
          ]
        },
        {
          "output_type": "stream",
          "name": "stderr",
          "text": [
            " 55%|█████▍    | 8510/15594 [05:55<02:02, 57.84it/s]"
          ]
        },
        {
          "output_type": "stream",
          "name": "stdout",
          "text": [
            "8500 , "
          ]
        },
        {
          "output_type": "stream",
          "name": "stderr",
          "text": [
            " 55%|█████▌    | 8607/15594 [05:56<02:20, 49.82it/s]"
          ]
        },
        {
          "output_type": "stream",
          "name": "stdout",
          "text": [
            "8600 , "
          ]
        },
        {
          "output_type": "stream",
          "name": "stderr",
          "text": [
            " 56%|█████▌    | 8707/15594 [05:58<02:05, 54.83it/s]"
          ]
        },
        {
          "output_type": "stream",
          "name": "stdout",
          "text": [
            "8700 , "
          ]
        },
        {
          "output_type": "stream",
          "name": "stderr",
          "text": [
            " 56%|█████▋    | 8809/15594 [06:00<02:05, 54.17it/s]"
          ]
        },
        {
          "output_type": "stream",
          "name": "stdout",
          "text": [
            "8800 , "
          ]
        },
        {
          "output_type": "stream",
          "name": "stderr",
          "text": [
            " 57%|█████▋    | 8905/15594 [06:02<02:05, 53.10it/s]"
          ]
        },
        {
          "output_type": "stream",
          "name": "stdout",
          "text": [
            "8900 , "
          ]
        },
        {
          "output_type": "stream",
          "name": "stderr",
          "text": [
            " 58%|█████▊    | 9007/15594 [06:04<02:10, 50.44it/s]"
          ]
        },
        {
          "output_type": "stream",
          "name": "stdout",
          "text": [
            "9000 , "
          ]
        },
        {
          "output_type": "stream",
          "name": "stderr",
          "text": [
            " 58%|█████▊    | 9105/15594 [06:06<02:01, 53.32it/s]"
          ]
        },
        {
          "output_type": "stream",
          "name": "stdout",
          "text": [
            "9100 , "
          ]
        },
        {
          "output_type": "stream",
          "name": "stderr",
          "text": [
            " 59%|█████▉    | 9208/15594 [06:08<01:55, 55.26it/s]"
          ]
        },
        {
          "output_type": "stream",
          "name": "stdout",
          "text": [
            "9200 , "
          ]
        },
        {
          "output_type": "stream",
          "name": "stderr",
          "text": [
            " 60%|█████▉    | 9304/15594 [06:10<01:59, 52.85it/s]"
          ]
        },
        {
          "output_type": "stream",
          "name": "stdout",
          "text": [
            "9300 , "
          ]
        },
        {
          "output_type": "stream",
          "name": "stderr",
          "text": [
            " 60%|██████    | 9406/15594 [06:12<01:56, 53.27it/s]"
          ]
        },
        {
          "output_type": "stream",
          "name": "stdout",
          "text": [
            "9400 , "
          ]
        },
        {
          "output_type": "stream",
          "name": "stderr",
          "text": [
            " 61%|██████    | 9508/15594 [06:14<01:55, 52.90it/s]"
          ]
        },
        {
          "output_type": "stream",
          "name": "stdout",
          "text": [
            "9500 , "
          ]
        },
        {
          "output_type": "stream",
          "name": "stderr",
          "text": [
            " 62%|██████▏   | 9610/15594 [06:16<01:56, 51.50it/s]"
          ]
        },
        {
          "output_type": "stream",
          "name": "stdout",
          "text": [
            "9600 , "
          ]
        },
        {
          "output_type": "stream",
          "name": "stderr",
          "text": [
            " 62%|██████▏   | 9706/15594 [06:18<01:52, 52.16it/s]"
          ]
        },
        {
          "output_type": "stream",
          "name": "stdout",
          "text": [
            "9700 , "
          ]
        },
        {
          "output_type": "stream",
          "name": "stderr",
          "text": [
            " 63%|██████▎   | 9809/15594 [06:20<01:48, 53.17it/s]"
          ]
        },
        {
          "output_type": "stream",
          "name": "stdout",
          "text": [
            "9800 , "
          ]
        },
        {
          "output_type": "stream",
          "name": "stderr",
          "text": [
            " 64%|██████▎   | 9905/15594 [06:21<01:50, 51.63it/s]"
          ]
        },
        {
          "output_type": "stream",
          "name": "stdout",
          "text": [
            "9900 , "
          ]
        },
        {
          "output_type": "stream",
          "name": "stderr",
          "text": [
            " 64%|██████▍   | 10008/15594 [06:23<01:45, 52.71it/s]"
          ]
        },
        {
          "output_type": "stream",
          "name": "stdout",
          "text": [
            "10000 , "
          ]
        },
        {
          "output_type": "stream",
          "name": "stderr",
          "text": [
            " 65%|██████▍   | 10111/15594 [06:25<01:45, 52.20it/s]"
          ]
        },
        {
          "output_type": "stream",
          "name": "stdout",
          "text": [
            "10100 , "
          ]
        },
        {
          "output_type": "stream",
          "name": "stderr",
          "text": [
            " 65%|██████▌   | 10207/15594 [06:27<01:40, 53.73it/s]"
          ]
        },
        {
          "output_type": "stream",
          "name": "stdout",
          "text": [
            "10200 , "
          ]
        },
        {
          "output_type": "stream",
          "name": "stderr",
          "text": [
            " 66%|██████▌   | 10309/15594 [06:29<01:47, 49.17it/s]"
          ]
        },
        {
          "output_type": "stream",
          "name": "stdout",
          "text": [
            "10300 , "
          ]
        },
        {
          "output_type": "stream",
          "name": "stderr",
          "text": [
            " 67%|██████▋   | 10404/15594 [06:31<01:38, 52.86it/s]"
          ]
        },
        {
          "output_type": "stream",
          "name": "stdout",
          "text": [
            "10400 , "
          ]
        },
        {
          "output_type": "stream",
          "name": "stderr",
          "text": [
            " 67%|██████▋   | 10507/15594 [06:33<01:35, 53.12it/s]"
          ]
        },
        {
          "output_type": "stream",
          "name": "stdout",
          "text": [
            "10500 , "
          ]
        },
        {
          "output_type": "stream",
          "name": "stderr",
          "text": [
            " 68%|██████▊   | 10609/15594 [06:35<01:35, 52.39it/s]"
          ]
        },
        {
          "output_type": "stream",
          "name": "stdout",
          "text": [
            "10600 , "
          ]
        },
        {
          "output_type": "stream",
          "name": "stderr",
          "text": [
            " 69%|██████▊   | 10705/15594 [06:37<01:36, 50.44it/s]"
          ]
        },
        {
          "output_type": "stream",
          "name": "stdout",
          "text": [
            "10700 , "
          ]
        },
        {
          "output_type": "stream",
          "name": "stderr",
          "text": [
            " 69%|██████▉   | 10808/15594 [06:39<01:28, 54.10it/s]"
          ]
        },
        {
          "output_type": "stream",
          "name": "stdout",
          "text": [
            "10800 , "
          ]
        },
        {
          "output_type": "stream",
          "name": "stderr",
          "text": [
            " 70%|██████▉   | 10910/15594 [06:41<01:27, 53.73it/s]"
          ]
        },
        {
          "output_type": "stream",
          "name": "stdout",
          "text": [
            "10900 , "
          ]
        },
        {
          "output_type": "stream",
          "name": "stderr",
          "text": [
            " 71%|███████   | 11005/15594 [06:42<01:35, 48.03it/s]"
          ]
        },
        {
          "output_type": "stream",
          "name": "stdout",
          "text": [
            "11000 , "
          ]
        },
        {
          "output_type": "stream",
          "name": "stderr",
          "text": [
            " 71%|███████   | 11107/15594 [06:44<01:26, 52.07it/s]"
          ]
        },
        {
          "output_type": "stream",
          "name": "stdout",
          "text": [
            "11100 , "
          ]
        },
        {
          "output_type": "stream",
          "name": "stderr",
          "text": [
            " 72%|███████▏  | 11205/15594 [06:46<01:22, 53.08it/s]"
          ]
        },
        {
          "output_type": "stream",
          "name": "stdout",
          "text": [
            "11200 , "
          ]
        },
        {
          "output_type": "stream",
          "name": "stderr",
          "text": [
            " 73%|███████▎  | 11308/15594 [06:48<01:20, 53.00it/s]"
          ]
        },
        {
          "output_type": "stream",
          "name": "stdout",
          "text": [
            "11300 , "
          ]
        },
        {
          "output_type": "stream",
          "name": "stderr",
          "text": [
            " 73%|███████▎  | 11410/15594 [06:50<01:19, 52.76it/s]"
          ]
        },
        {
          "output_type": "stream",
          "name": "stdout",
          "text": [
            "11400 , "
          ]
        },
        {
          "output_type": "stream",
          "name": "stderr",
          "text": [
            " 74%|███████▍  | 11506/15594 [06:52<01:14, 54.87it/s]"
          ]
        },
        {
          "output_type": "stream",
          "name": "stdout",
          "text": [
            "11500 , "
          ]
        },
        {
          "output_type": "stream",
          "name": "stderr",
          "text": [
            " 74%|███████▍  | 11608/15594 [06:54<01:14, 53.69it/s]"
          ]
        },
        {
          "output_type": "stream",
          "name": "stdout",
          "text": [
            "11600 , "
          ]
        },
        {
          "output_type": "stream",
          "name": "stderr",
          "text": [
            " 75%|███████▌  | 11710/15594 [06:56<01:14, 52.09it/s]"
          ]
        },
        {
          "output_type": "stream",
          "name": "stdout",
          "text": [
            "11700 , "
          ]
        },
        {
          "output_type": "stream",
          "name": "stderr",
          "text": [
            " 76%|███████▌  | 11808/15594 [06:58<01:07, 55.90it/s]"
          ]
        },
        {
          "output_type": "stream",
          "name": "stdout",
          "text": [
            "11800 , "
          ]
        },
        {
          "output_type": "stream",
          "name": "stderr",
          "text": [
            " 76%|███████▋  | 11912/15594 [06:59<01:04, 56.90it/s]"
          ]
        },
        {
          "output_type": "stream",
          "name": "stdout",
          "text": [
            "11900 , "
          ]
        },
        {
          "output_type": "stream",
          "name": "stderr",
          "text": [
            " 77%|███████▋  | 12006/15594 [07:01<01:03, 56.75it/s]"
          ]
        },
        {
          "output_type": "stream",
          "name": "stdout",
          "text": [
            "12000 , "
          ]
        },
        {
          "output_type": "stream",
          "name": "stderr",
          "text": [
            " 78%|███████▊  | 12108/15594 [07:03<00:59, 58.21it/s]"
          ]
        },
        {
          "output_type": "stream",
          "name": "stdout",
          "text": [
            "12100 , "
          ]
        },
        {
          "output_type": "stream",
          "name": "stderr",
          "text": [
            " 78%|███████▊  | 12205/15594 [07:05<00:59, 56.55it/s]"
          ]
        },
        {
          "output_type": "stream",
          "name": "stdout",
          "text": [
            "12200 , "
          ]
        },
        {
          "output_type": "stream",
          "name": "stderr",
          "text": [
            " 79%|███████▉  | 12311/15594 [07:06<00:56, 57.89it/s]"
          ]
        },
        {
          "output_type": "stream",
          "name": "stdout",
          "text": [
            "12300 , "
          ]
        },
        {
          "output_type": "stream",
          "name": "stderr",
          "text": [
            " 80%|███████▉  | 12408/15594 [07:08<00:57, 55.65it/s]"
          ]
        },
        {
          "output_type": "stream",
          "name": "stdout",
          "text": [
            "12400 , "
          ]
        },
        {
          "output_type": "stream",
          "name": "stderr",
          "text": [
            " 80%|████████  | 12505/15594 [07:10<00:56, 54.97it/s]"
          ]
        },
        {
          "output_type": "stream",
          "name": "stdout",
          "text": [
            "12500 , "
          ]
        },
        {
          "output_type": "stream",
          "name": "stderr",
          "text": [
            " 81%|████████  | 12604/15594 [07:12<01:06, 44.74it/s]"
          ]
        },
        {
          "output_type": "stream",
          "name": "stdout",
          "text": [
            "12600 , "
          ]
        },
        {
          "output_type": "stream",
          "name": "stderr",
          "text": [
            " 81%|████████▏ | 12705/15594 [07:14<01:06, 43.26it/s]"
          ]
        },
        {
          "output_type": "stream",
          "name": "stdout",
          "text": [
            "12700 , "
          ]
        },
        {
          "output_type": "stream",
          "name": "stderr",
          "text": [
            " 82%|████████▏ | 12806/15594 [07:16<01:01, 45.06it/s]"
          ]
        },
        {
          "output_type": "stream",
          "name": "stdout",
          "text": [
            "12800 , "
          ]
        },
        {
          "output_type": "stream",
          "name": "stderr",
          "text": [
            " 83%|████████▎ | 12904/15594 [07:19<00:58, 46.15it/s]"
          ]
        },
        {
          "output_type": "stream",
          "name": "stdout",
          "text": [
            "12900 , "
          ]
        },
        {
          "output_type": "stream",
          "name": "stderr",
          "text": [
            " 83%|████████▎ | 13007/15594 [07:21<00:56, 45.80it/s]"
          ]
        },
        {
          "output_type": "stream",
          "name": "stdout",
          "text": [
            "13000 , "
          ]
        },
        {
          "output_type": "stream",
          "name": "stderr",
          "text": [
            " 84%|████████▍ | 13107/15594 [07:23<00:55, 44.63it/s]"
          ]
        },
        {
          "output_type": "stream",
          "name": "stdout",
          "text": [
            "13100 , "
          ]
        },
        {
          "output_type": "stream",
          "name": "stderr",
          "text": [
            " 85%|████████▍ | 13208/15594 [07:25<00:52, 45.04it/s]"
          ]
        },
        {
          "output_type": "stream",
          "name": "stdout",
          "text": [
            "13200 , "
          ]
        },
        {
          "output_type": "stream",
          "name": "stderr",
          "text": [
            " 85%|████████▌ | 13307/15594 [07:27<00:48, 46.84it/s]"
          ]
        },
        {
          "output_type": "stream",
          "name": "stdout",
          "text": [
            "13300 , "
          ]
        },
        {
          "output_type": "stream",
          "name": "stderr",
          "text": [
            " 86%|████████▌ | 13407/15594 [07:30<00:49, 44.03it/s]"
          ]
        },
        {
          "output_type": "stream",
          "name": "stdout",
          "text": [
            "13400 , "
          ]
        },
        {
          "output_type": "stream",
          "name": "stderr",
          "text": [
            " 87%|████████▋ | 13508/15594 [07:32<00:46, 45.27it/s]"
          ]
        },
        {
          "output_type": "stream",
          "name": "stdout",
          "text": [
            "13500 , "
          ]
        },
        {
          "output_type": "stream",
          "name": "stderr",
          "text": [
            " 87%|████████▋ | 13606/15594 [07:34<00:44, 44.50it/s]"
          ]
        },
        {
          "output_type": "stream",
          "name": "stdout",
          "text": [
            "13600 , "
          ]
        },
        {
          "output_type": "stream",
          "name": "stderr",
          "text": [
            " 88%|████████▊ | 13705/15594 [07:36<00:40, 47.12it/s]"
          ]
        },
        {
          "output_type": "stream",
          "name": "stdout",
          "text": [
            "13700 , "
          ]
        },
        {
          "output_type": "stream",
          "name": "stderr",
          "text": [
            " 89%|████████▊ | 13806/15594 [07:38<00:39, 45.61it/s]"
          ]
        },
        {
          "output_type": "stream",
          "name": "stdout",
          "text": [
            "13800 , "
          ]
        },
        {
          "output_type": "stream",
          "name": "stderr",
          "text": [
            " 89%|████████▉ | 13908/15594 [07:41<00:39, 42.82it/s]"
          ]
        },
        {
          "output_type": "stream",
          "name": "stdout",
          "text": [
            "13900 , "
          ]
        },
        {
          "output_type": "stream",
          "name": "stderr",
          "text": [
            " 90%|████████▉ | 14007/15594 [07:43<00:34, 45.63it/s]"
          ]
        },
        {
          "output_type": "stream",
          "name": "stdout",
          "text": [
            "14000 , "
          ]
        },
        {
          "output_type": "stream",
          "name": "stderr",
          "text": [
            " 90%|█████████ | 14106/15594 [07:45<00:29, 50.52it/s]"
          ]
        },
        {
          "output_type": "stream",
          "name": "stdout",
          "text": [
            "14100 , "
          ]
        },
        {
          "output_type": "stream",
          "name": "stderr",
          "text": [
            " 91%|█████████ | 14210/15594 [07:47<00:26, 52.21it/s]"
          ]
        },
        {
          "output_type": "stream",
          "name": "stdout",
          "text": [
            "14200 , "
          ]
        },
        {
          "output_type": "stream",
          "name": "stderr",
          "text": [
            " 92%|█████████▏| 14308/15594 [07:49<00:25, 51.09it/s]"
          ]
        },
        {
          "output_type": "stream",
          "name": "stdout",
          "text": [
            "14300 , "
          ]
        },
        {
          "output_type": "stream",
          "name": "stderr",
          "text": [
            " 92%|█████████▏| 14409/15594 [07:51<00:23, 51.13it/s]"
          ]
        },
        {
          "output_type": "stream",
          "name": "stdout",
          "text": [
            "14400 , "
          ]
        },
        {
          "output_type": "stream",
          "name": "stderr",
          "text": [
            " 93%|█████████▎| 14504/15594 [07:53<00:21, 51.55it/s]"
          ]
        },
        {
          "output_type": "stream",
          "name": "stdout",
          "text": [
            "14500 , "
          ]
        },
        {
          "output_type": "stream",
          "name": "stderr",
          "text": [
            " 94%|█████████▎| 14606/15594 [07:55<00:19, 49.77it/s]"
          ]
        },
        {
          "output_type": "stream",
          "name": "stdout",
          "text": [
            "14600 , "
          ]
        },
        {
          "output_type": "stream",
          "name": "stderr",
          "text": [
            " 94%|█████████▍| 14709/15594 [07:57<00:17, 51.02it/s]"
          ]
        },
        {
          "output_type": "stream",
          "name": "stdout",
          "text": [
            "14700 , "
          ]
        },
        {
          "output_type": "stream",
          "name": "stderr",
          "text": [
            " 95%|█████████▍| 14808/15594 [07:59<00:16, 48.85it/s]"
          ]
        },
        {
          "output_type": "stream",
          "name": "stdout",
          "text": [
            "14800 , "
          ]
        },
        {
          "output_type": "stream",
          "name": "stderr",
          "text": [
            " 96%|█████████▌| 14909/15594 [08:01<00:13, 50.33it/s]"
          ]
        },
        {
          "output_type": "stream",
          "name": "stdout",
          "text": [
            "14900 , "
          ]
        },
        {
          "output_type": "stream",
          "name": "stderr",
          "text": [
            " 96%|█████████▌| 15008/15594 [08:03<00:11, 50.67it/s]"
          ]
        },
        {
          "output_type": "stream",
          "name": "stdout",
          "text": [
            "15000 , "
          ]
        },
        {
          "output_type": "stream",
          "name": "stderr",
          "text": [
            " 97%|█████████▋| 15104/15594 [08:05<00:09, 49.66it/s]"
          ]
        },
        {
          "output_type": "stream",
          "name": "stdout",
          "text": [
            "15100 , "
          ]
        },
        {
          "output_type": "stream",
          "name": "stderr",
          "text": [
            " 97%|█████████▋| 15204/15594 [08:07<00:08, 47.62it/s]"
          ]
        },
        {
          "output_type": "stream",
          "name": "stdout",
          "text": [
            "15200 , "
          ]
        },
        {
          "output_type": "stream",
          "name": "stderr",
          "text": [
            " 98%|█████████▊| 15307/15594 [08:09<00:05, 50.57it/s]"
          ]
        },
        {
          "output_type": "stream",
          "name": "stdout",
          "text": [
            "15300 , "
          ]
        },
        {
          "output_type": "stream",
          "name": "stderr",
          "text": [
            " 99%|█████████▉| 15407/15594 [08:11<00:03, 49.95it/s]"
          ]
        },
        {
          "output_type": "stream",
          "name": "stdout",
          "text": [
            "15400 , "
          ]
        },
        {
          "output_type": "stream",
          "name": "stderr",
          "text": [
            " 99%|█████████▉| 15508/15594 [08:13<00:01, 49.78it/s]"
          ]
        },
        {
          "output_type": "stream",
          "name": "stdout",
          "text": [
            "15500 , "
          ]
        },
        {
          "output_type": "stream",
          "name": "stderr",
          "text": [
            "100%|██████████| 15594/15594 [08:15<00:00, 31.49it/s]\n"
          ]
        }
      ]
    },
    {
      "cell_type": "code",
      "source": [
        "a,b,c,d"
      ],
      "metadata": {
        "colab": {
          "base_uri": "https://localhost:8080/"
        },
        "id": "d8imdS1wEbN-",
        "outputId": "e4c758e8-0360-4ee0-8dde-188700803055"
      },
      "execution_count": 10,
      "outputs": [
        {
          "output_type": "execute_result",
          "data": {
            "text/plain": [
              "(4935.0, 5825.0, 0, 0)"
            ]
          },
          "metadata": {},
          "execution_count": 10
        }
      ]
    },
    {
      "cell_type": "code",
      "source": [
        "# Looking into the train lenghts of the txt files \n",
        "plt.hist(train_lens , bins = 100)\n",
        "plt.show()"
      ],
      "metadata": {
        "colab": {
          "base_uri": "https://localhost:8080/",
          "height": 265
        },
        "id": "mZd8_Iz6dUvU",
        "outputId": "d4c7f613-5c55-4835-c14c-141561831bd7"
      },
      "execution_count": 11,
      "outputs": [
        {
          "output_type": "display_data",
          "data": {
            "image/png": "[encoded data removed]",
            "text/plain": [
              "<Figure size 432x288 with 1 Axes>"
            ]
          },
          "metadata": {
            "needs_background": "light"
          }
        }
      ]
    },
    {
      "cell_type": "markdown",
      "source": [
        "We have tokenized our text within the length 1024 and we could prolly explore other widths between 512 and 1024 also. \n",
        "\n",
        "Using the smaller stride breaks a single text into multiple chunks. Also using larger seq len leads to larger model. "
      ],
      "metadata": {
        "id": "GzOqnrbo1h30"
      }
    },
    {
      "cell_type": "code",
      "source": [
        "# Creating the targets \n",
        "targets = np.zeros((len(ids) , MAX_LEN , 15) , dtype = 'int32')\n",
        "#targets.shape\n",
        "\n",
        "for k in range(7):\n",
        "  targets[: , : , 2*k] = targets_b[k] # start token\n",
        "  targets[: , : , 2*k+1] = targets_i[k] # every other token \n",
        "\n",
        "targets[: , : , 14] = 1-np.max(targets , axis = -1)\n",
        "\n",
        "targets.shape"
      ],
      "metadata": {
        "colab": {
          "base_uri": "https://localhost:8080/"
        },
        "id": "dZ7Dt6tkU-KT",
        "outputId": "5e2ff693-db8a-4ab9-a6fa-3be8a8eaf8cf"
      },
      "execution_count": 12,
      "outputs": [
        {
          "output_type": "execute_result",
          "data": {
            "text/plain": [
              "(15594, 1024, 15)"
            ]
          },
          "metadata": {},
          "execution_count": 12
        }
      ]
    },
    {
      "cell_type": "markdown",
      "source": [
        "Before the targets were full of zeros and we know updated the targets array with our start and rest of the span tokens. "
      ],
      "metadata": {
        "id": "r9jaLA0OfhIg"
      }
    },
    {
      "cell_type": "code",
      "source": [
        "# Decoding the input tokens back to text \n",
        "tokenizer.decode(random.choice(train_tokens))"
      ],
      "metadata": {
        "colab": {
          "base_uri": "https://localhost:8080/",
          "height": 123
        },
        "id": "hE0YbEM3VA2A",
        "outputId": "ebdeecb2-b7e7-4a7b-8952-b7be56e6f7dd"
      },
      "execution_count": 13,
      "outputs": [
        {
          "output_type": "execute_result",
          "data": {
            "application/vnd.google.colaboratory.intrinsic+json": {
              "type": "string"
            },
            "text/plain": [
              "'<s>What if you were doing a extracurricular activity and wanted to share the joy of it with everyone else? I do agree that students should participate in at least one extracurricular activity. Having a extracurricular activity helps students become more social, more active, and provides people with information that is not taught in school.\\n\\nA extra curricular activity can allow people to become more sociable and make more friends. This is possible because there are probably other people who want to join the same clubs as other peers. People in the same club can then become friends with people that have the same interests that they do. For example, say you join a sports team. You must be able to work well with them in order to win games, therefore you must socialize with your other teammates and become friends with them.\\n\\nStudents can also become more active in exercising, school, the environment, and the community. Ways to become more active in exercising is by joining a sports team, in a sports team you exercise all the time in order to preform properly in your chosen sport. Students can become more active in school by joining the student\\xa0council. When you join the student council you help organize events that can be seen as enjoyment for the other students, or it can help raise money for other school activities. Next, students can have a better impact on the environment. To do this students can join the gardening club or a\\n\\nGO GREEN\\n\\nclub, which helps the plants and animals near your school. Lastly, by joining an extracurricular club you can also help your community. For example by joining\\n\\nNJHS\\n\\nor girl/boy scouts. These two clubs have you do activities that help out in the community, like helping the elderly or bagging food for the homeless.\\n\\nLastly, joining a extracurricular activity can provide students with a more in depth\\xa0look on subjects that they are interested in. Therefore, it is wise for students to join clubs for subjects that are not taught in depth in school. For example science, art, or writing. This can also help students figure out what they want to do with their future, and if different activities would interest them or not.\\n\\nIn my opinion, I do agree that every students should be required to do a extra curricular activity. Even though having a extracurricular activity can allow less time for homework, or can negatively effect you grades. A extracurricular activity can benefit students in many ways from them becoming more active in school and the community, making more friends that could last a life time, or the can provide students with a bigger outlook on activities that they want to pursue when they get older. Therefore, I still believe that having an extra curricular activity is beneficial to students, people just have to work a bit harder to maintain the grades that they need for school.\\xa0</s><pad><pad><pad><pad><pad><pad><pad><pad><pad><pad><pad><pad><pad><pad><pad><pad><pad><pad><pad><pad><pad><pad><pad><pad><pad><pad><pad><pad><pad><pad><pad><pad><pad><pad><pad><pad><pad><pad><pad><pad><pad><pad><pad><pad><pad><pad><pad><pad><pad><pad><pad><pad><pad><pad><pad><pad><pad><pad><pad><pad><pad><pad><pad><pad><pad><pad><pad><pad><pad><pad><pad><pad><pad><pad><pad><pad><pad><pad><pad><pad><pad><pad><pad><pad><pad><pad><pad><pad><pad><pad><pad><pad><pad><pad><pad><pad><pad><pad><pad><pad><pad><pad><pad><pad><pad><pad><pad><pad><pad><pad><pad><pad><pad><pad><pad><pad><pad><pad><pad><pad><pad><pad><pad><pad><pad><pad><pad><pad><pad><pad><pad><pad><pad><pad><pad><pad><pad><pad><pad><pad><pad><pad><pad><pad><pad><pad><pad><pad><pad><pad><pad><pad><pad><pad><pad><pad><pad><pad><pad><pad><pad><pad><pad><pad><pad><pad><pad><pad><pad><pad><pad><pad><pad><pad><pad><pad><pad><pad><pad><pad><pad><pad><pad><pad><pad><pad><pad><pad><pad><pad><pad><pad><pad><pad><pad><pad><pad><pad><pad><pad><pad><pad><pad><pad><pad><pad><pad><pad><pad><pad><pad><pad><pad><pad><pad><pad><pad><pad><pad><pad><pad><pad><pad><pad><pad><pad><pad><pad><pad><pad><pad><pad><pad><pad><pad><pad><pad><pad><pad><pad><pad><pad><pad><pad><pad><pad><pad><pad><pad><pad><pad><pad><pad><pad><pad><pad><pad><pad><pad><pad><pad><pad><pad><pad><pad><pad><pad><pad><pad><pad><pad><pad><pad><pad><pad><pad><pad><pad><pad><pad><pad><pad><pad><pad><pad><pad><pad><pad><pad><pad><pad><pad><pad><pad><pad><pad><pad><pad><pad><pad><pad><pad><pad><pad><pad><pad><pad><pad><pad><pad><pad><pad><pad><pad><pad><pad><pad><pad><pad><pad><pad><pad><pad><pad><pad><pad><pad><pad><pad><pad><pad><pad><pad><pad><pad><pad><pad><pad><pad><pad><pad><pad><pad><pad><pad><pad><pad><pad><pad><pad><pad><pad><pad><pad><pad><pad><pad><pad><pad><pad><pad><pad><pad><pad><pad><pad><pad><pad><pad><pad><pad><pad><pad><pad><pad><pad><pad><pad><pad><pad><pad><pad><pad><pad><pad><pad><pad><pad><pad><pad><pad><pad><pad><pad><pad><pad><pad><pad><pad><pad><pad><pad><pad><pad><pad><pad><pad><pad><pad><pad><pad><pad><pad><pad><pad><pad><pad><pad><pad><pad><pad><pad><pad><pad><pad><pad><pad><pad><pad><pad><pad>'"
            ]
          },
          "metadata": {},
          "execution_count": 13
        }
      ]
    },
    {
      "cell_type": "code",
      "source": [
        "# Looking into the targets \n",
        "targets"
      ],
      "metadata": {
        "colab": {
          "base_uri": "https://localhost:8080/"
        },
        "id": "ueuvAZ63YvHg",
        "outputId": "162bf9d2-7883-462d-ff27-016100f98702"
      },
      "execution_count": 14,
      "outputs": [
        {
          "output_type": "execute_result",
          "data": {
            "text/plain": [
              "array([[[0, 0, 0, ..., 0, 0, 1],\n",
              "        [0, 0, 0, ..., 0, 0, 1],\n",
              "        [0, 0, 0, ..., 0, 0, 1],\n",
              "        ...,\n",
              "        [0, 0, 0, ..., 0, 0, 1],\n",
              "        [0, 0, 0, ..., 0, 0, 1],\n",
              "        [0, 0, 0, ..., 0, 0, 1]],\n",
              "\n",
              "       [[0, 0, 0, ..., 0, 0, 1],\n",
              "        [0, 0, 0, ..., 0, 0, 1],\n",
              "        [0, 0, 0, ..., 0, 0, 1],\n",
              "        ...,\n",
              "        [0, 0, 0, ..., 0, 0, 1],\n",
              "        [0, 0, 0, ..., 0, 0, 1],\n",
              "        [0, 0, 0, ..., 0, 0, 1]],\n",
              "\n",
              "       [[0, 0, 0, ..., 0, 0, 1],\n",
              "        [0, 0, 0, ..., 0, 0, 1],\n",
              "        [0, 0, 0, ..., 0, 0, 1],\n",
              "        ...,\n",
              "        [0, 0, 0, ..., 0, 0, 1],\n",
              "        [0, 0, 0, ..., 0, 0, 1],\n",
              "        [0, 0, 0, ..., 0, 0, 1]],\n",
              "\n",
              "       ...,\n",
              "\n",
              "       [[1, 0, 0, ..., 0, 0, 0],\n",
              "        [0, 1, 0, ..., 0, 0, 0],\n",
              "        [0, 1, 0, ..., 0, 0, 0],\n",
              "        ...,\n",
              "        [0, 0, 0, ..., 0, 0, 1],\n",
              "        [0, 0, 0, ..., 0, 0, 1],\n",
              "        [0, 0, 0, ..., 0, 0, 1]],\n",
              "\n",
              "       [[1, 0, 0, ..., 0, 0, 0],\n",
              "        [0, 1, 0, ..., 0, 0, 0],\n",
              "        [0, 1, 0, ..., 0, 0, 0],\n",
              "        ...,\n",
              "        [0, 0, 0, ..., 0, 0, 1],\n",
              "        [0, 0, 0, ..., 0, 0, 1],\n",
              "        [0, 0, 0, ..., 0, 0, 1]],\n",
              "\n",
              "       [[1, 0, 0, ..., 0, 0, 0],\n",
              "        [0, 1, 0, ..., 0, 0, 0],\n",
              "        [0, 1, 0, ..., 0, 0, 0],\n",
              "        ...,\n",
              "        [0, 0, 0, ..., 0, 0, 1],\n",
              "        [0, 0, 0, ..., 0, 0, 1],\n",
              "        [0, 0, 0, ..., 0, 0, 1]]], dtype=int32)"
            ]
          },
          "metadata": {},
          "execution_count": 14
        }
      ]
    },
    {
      "cell_type": "code",
      "source": [
        "# Storing all the variables \n",
        "np.save(f'targets{MAX_LEN}' , targets)\n",
        "np.save(f'tokens{MAX_LEN}' , train_tokens)\n",
        "np.save(f'attention{MAX_LEN}' , train_attention)\n",
        "print('Saved NER Tokens')"
      ],
      "metadata": {
        "colab": {
          "base_uri": "https://localhost:8080/"
        },
        "id": "LziFvsCofpVZ",
        "outputId": "ab6ef597-29ff-4c47-8149-df46b3b2ddec"
      },
      "execution_count": 15,
      "outputs": [
        {
          "output_type": "stream",
          "name": "stdout",
          "text": [
            "Saved NER Tokens\n"
          ]
        }
      ]
    },
    {
      "cell_type": "code",
      "source": [
        "# Move the tokens into a folder\n",
        "\n",
        "# !mv -t /content/drive/MyDrive/Kaggle_Competition/feedback_prize_eval/ner_tokens  /content/attention1024.npy /content/targets1024.npy /content/tokens1024.npy\n",
        "\n",
        "\n",
        "# Perhaps we can load this using the below code \n",
        "# file_name =  np.load(filepath)"
      ],
      "metadata": {
        "id": "01_CYHypgCf9"
      },
      "execution_count": 16,
      "outputs": []
    },
    {
      "cell_type": "markdown",
      "source": [
        "### Building a model \n",
        "\n",
        "- Will use longformer as a backbone \n",
        "- Add our NER head using one hidden layer of size `228`\n",
        "- One final layer with a softmax \n",
        "\n",
        "We use 15 classes in here because we split our labels into 14 classes, \n",
        "- `B` class 7 labels\n",
        "- `I` class 7 labels\n",
        "- additional class called `0` class that doesn't belong to any of the 14 classes. "
      ],
      "metadata": {
        "id": "L_9Yxxg0huM9"
      }
    },
    {
      "cell_type": "code",
      "source": [
        "# Building a model \n",
        "\n",
        "def build_model():\n",
        "\n",
        "  # Input layer for our tokens and attention masks\n",
        "  tokens = layers.Input(shape = (MAX_LEN , ) , name = 'tokens' , dtype = tf.int32)\n",
        "  attention = layers.Input(shape = (MAX_LEN ,) , name = 'attention', dtype = tf.int32)\n",
        "\n",
        "  # Downloading the Configuration file for the pretained model \n",
        "  config = AutoConfig.from_pretrained('model' + '/config.json')\n",
        "\n",
        "  # Initiating the backbone of the longformer \n",
        "  backbone = TFAutoModel.from_pretrained('model' + '/tf_model.h5' , config = config)\n",
        "\n",
        "  # Passing the tokens and attention into the backbone \n",
        "  x = backbone(tokens , attention_mask = attention)\n",
        "\n",
        "  # Only pass the x[0]\n",
        "  \n",
        "  # Dense layer and output layer \n",
        "  x = layers.Dense(256 , activation = 'relu')(x[0])\n",
        "  x = layers.Dense(15 , activation = 'softmax' )(x)\n",
        "\n",
        "  # Packing into a model \n",
        "  model = tf.keras.Model(inputs = [tokens , attention] , outputs = x)\n",
        "\n",
        "  # Compiling the model \n",
        "  model.compile(optimizer = tf.keras.optimizers.Adam(lr = 1e-4) , \n",
        "                loss = tf.keras.losses.CategoricalCrossentropy() , \n",
        "                metrics = [tf.keras.metrics.CategoricalAccuracy()])\n",
        "  \n",
        "  return model\n",
        "\n"
      ],
      "metadata": {
        "id": "r-HRDGRTihYq"
      },
      "execution_count": 17,
      "outputs": []
    },
    {
      "cell_type": "code",
      "source": [
        "strategy = tf.distribute.get_strategy()\n",
        "with strategy.scope():\n",
        "  model = build_model()\n",
        "\n",
        "\n",
        "# Model summary \n",
        "model.summary()"
      ],
      "metadata": {
        "colab": {
          "base_uri": "https://localhost:8080/"
        },
        "id": "g7QzHaKrnMwb",
        "outputId": "73013652-6628-4b07-b099-c39fdd1b94d0"
      },
      "execution_count": 18,
      "outputs": [
        {
          "output_type": "stream",
          "name": "stderr",
          "text": [
            "All model checkpoint layers were used when initializing TFLongformerModel.\n",
            "\n",
            "All the layers of TFLongformerModel were initialized from the model checkpoint at model/tf_model.h5.\n",
            "If your task is similar to the task the model of the checkpoint was trained on, you can already use TFLongformerModel for predictions without further training.\n"
          ]
        },
        {
          "output_type": "stream",
          "name": "stdout",
          "text": [
            "Model: \"model\"\n",
            "__________________________________________________________________________________________________\n",
            " Layer (type)                   Output Shape         Param #     Connected to                     \n",
            "==================================================================================================\n",
            " tokens (InputLayer)            [(None, 1024)]       0           []                               \n",
            "                                                                                                  \n",
            " attention (InputLayer)         [(None, 1024)]       0           []                               \n",
            "                                                                                                  \n",
            " tf_longformer_model_1 (TFLongf  TFLongformerBaseMod  148659456  ['tokens[0][0]',                 \n",
            " ormerModel)                    elOutputWithPooling               'attention[0][0]']              \n",
            "                                (last_hidden_state=                                               \n",
            "                                (None, 1024, 768),                                                \n",
            "                                 pooler_output=(Non                                               \n",
            "                                e, 768),                                                          \n",
            "                                 hidden_states=None                                               \n",
            "                                , attentions=None,                                                \n",
            "                                global_attentions=N                                               \n",
            "                                one)                                                              \n",
            "                                                                                                  \n",
            " dense (Dense)                  (None, 1024, 256)    196864      ['tf_longformer_model_1[0][0]']  \n",
            "                                                                                                  \n",
            " dense_1 (Dense)                (None, 1024, 15)     3855        ['dense[0][0]']                  \n",
            "                                                                                                  \n",
            "==================================================================================================\n",
            "Total params: 148,860,175\n",
            "Trainable params: 148,860,175\n",
            "Non-trainable params: 0\n",
            "__________________________________________________________________________________________________\n"
          ]
        },
        {
          "output_type": "stream",
          "name": "stderr",
          "text": [
            "/usr/local/lib/python3.7/dist-packages/keras/optimizer_v2/adam.py:105: UserWarning: The `lr` argument is deprecated, use `learning_rate` instead.\n",
            "  super(Adam, self).__init__(name, **kwargs)\n"
          ]
        }
      ]
    },
    {
      "cell_type": "markdown",
      "source": [
        "### Training the model \n",
        "\n",
        "- Train for 5 epochs \n",
        "- Batch size 32 \n",
        "- Learning rate is 1e4 for the first four epochs and 1e5 for the last / final epoch. \n",
        "\n",
        "\n",
        "Train valid split will be 90 and 10 % respectively. "
      ],
      "metadata": {
        "id": "8Mzp9sdWq_uS"
      }
    },
    {
      "cell_type": "code",
      "source": [
        "# Train and valid split \n",
        "np.random.seed(42)\n",
        "\n",
        "train_idx = np.random.choice(np.arange(len(ids)) , int (0.9 * len(ids)) , replace = False)\n",
        "valid_idx = np.setdiff1d(np.arange(len(ids)) , train_idx)\n",
        "\n",
        "print(f'Train size : {len(train_idx)} , Valid size : {len(valid_idx)}')"
      ],
      "metadata": {
        "colab": {
          "base_uri": "https://localhost:8080/"
        },
        "id": "Du8Iwrl48E_i",
        "outputId": "293bc517-05ab-4a6e-e74d-8df4c8a64829"
      },
      "execution_count": 19,
      "outputs": [
        {
          "output_type": "stream",
          "name": "stdout",
          "text": [
            "Train size : 14034 , Valid size : 1560\n"
          ]
        }
      ]
    },
    {
      "cell_type": "code",
      "source": [
        "# Learning rate scheduler and the checkpoints for training \n",
        "NUM_EPOCHS = 10\n",
        "\n",
        "LRS = [1e-4 , 1e-4 , 1e-4 , 1e-4 , 1e-5 , 1e-5 , 1e-5 , 1e-3 , 1e-3 , 1e-3 ] \n",
        "\n",
        "def learning_rate_fn(epoch):\n",
        "  return LRS[epoch] # return for each epoch \n",
        "\n",
        "lr_callback = tf.keras.callbacks.LearningRateScheduler(learning_rate_fn , verbose = True)\n"
      ],
      "metadata": {
        "id": "HpRYca5N8mGc"
      },
      "execution_count": 20,
      "outputs": []
    },
    {
      "cell_type": "code",
      "source": [
        "# Train the model \n",
        "history = model.fit(x = [train_tokens[train_idx ,] , train_attention[train_idx]] , \n",
        "                    y = targets[train_idx,] , \n",
        "                    validation_data = ([train_tokens[valid_idx ,] , train_attention[valid_idx ,]] , \n",
        "                                       targets[valid_idx,]), \n",
        "                    callbacks = [lr_callback] , \n",
        "                    epochs = NUM_EPOCHS , \n",
        "                    batch_size = 4 , \n",
        "                    verbose = 2)\n",
        "\n",
        "# Save the model weights \n",
        "model.save_weights(f'long_v_epochs_10.h5')"
      ],
      "metadata": {
        "colab": {
          "base_uri": "https://localhost:8080/",
          "height": 1000
        },
        "id": "Wz8KlgfM9Mz4",
        "outputId": "e600dcaa-b283-429c-f987-551aa9604f0b"
      },
      "execution_count": 21,
      "outputs": [
        {
          "output_type": "stream",
          "name": "stdout",
          "text": [
            "\n",
            "Epoch 1: LearningRateScheduler setting learning rate to 0.0001.\n",
            "Epoch 1/10\n",
            "WARNING:tensorflow:Gradients do not exist for variables ['tf_longformer_model_1/longformer/pooler/dense/kernel:0', 'tf_longformer_model_1/longformer/pooler/dense/bias:0'] when minimizing the loss. If you're using `model.compile()`, did you forget to provide a `loss`argument?\n",
            "WARNING:tensorflow:Gradients do not exist for variables ['tf_longformer_model_1/longformer/pooler/dense/kernel:0', 'tf_longformer_model_1/longformer/pooler/dense/bias:0'] when minimizing the loss. If you're using `model.compile()`, did you forget to provide a `loss`argument?\n"
          ]
        },
        {
          "output_type": "error",
          "ename": "ResourceExhaustedError",
          "evalue": "ignored",
          "traceback": [
            "\u001b[0;31m---------------------------------------------------------------------------\u001b[0m",
            "\u001b[0;31mResourceExhaustedError\u001b[0m                    Traceback (most recent call last)",
            "\u001b[0;32m<ipython-input-21-4ab6815da8e8>\u001b[0m in \u001b[0;36m<module>\u001b[0;34m()\u001b[0m\n\u001b[1;32m      7\u001b[0m                     \u001b[0mepochs\u001b[0m \u001b[0;34m=\u001b[0m \u001b[0mNUM_EPOCHS\u001b[0m \u001b[0;34m,\u001b[0m\u001b[0;34m\u001b[0m\u001b[0;34m\u001b[0m\u001b[0m\n\u001b[1;32m      8\u001b[0m                     \u001b[0mbatch_size\u001b[0m \u001b[0;34m=\u001b[0m \u001b[0;36m4\u001b[0m \u001b[0;34m,\u001b[0m\u001b[0;34m\u001b[0m\u001b[0;34m\u001b[0m\u001b[0m\n\u001b[0;32m----> 9\u001b[0;31m                     verbose = 2)\n\u001b[0m\u001b[1;32m     10\u001b[0m \u001b[0;34m\u001b[0m\u001b[0m\n\u001b[1;32m     11\u001b[0m \u001b[0;31m# Save the model weights\u001b[0m\u001b[0;34m\u001b[0m\u001b[0;34m\u001b[0m\u001b[0;34m\u001b[0m\u001b[0m\n",
            "\u001b[0;32m/usr/local/lib/python3.7/dist-packages/keras/utils/traceback_utils.py\u001b[0m in \u001b[0;36merror_handler\u001b[0;34m(*args, **kwargs)\u001b[0m\n\u001b[1;32m     65\u001b[0m     \u001b[0;32mexcept\u001b[0m \u001b[0mException\u001b[0m \u001b[0;32mas\u001b[0m \u001b[0me\u001b[0m\u001b[0;34m:\u001b[0m  \u001b[0;31m# pylint: disable=broad-except\u001b[0m\u001b[0;34m\u001b[0m\u001b[0;34m\u001b[0m\u001b[0m\n\u001b[1;32m     66\u001b[0m       \u001b[0mfiltered_tb\u001b[0m \u001b[0;34m=\u001b[0m \u001b[0m_process_traceback_frames\u001b[0m\u001b[0;34m(\u001b[0m\u001b[0me\u001b[0m\u001b[0;34m.\u001b[0m\u001b[0m__traceback__\u001b[0m\u001b[0;34m)\u001b[0m\u001b[0;34m\u001b[0m\u001b[0;34m\u001b[0m\u001b[0m\n\u001b[0;32m---> 67\u001b[0;31m       \u001b[0;32mraise\u001b[0m \u001b[0me\u001b[0m\u001b[0;34m.\u001b[0m\u001b[0mwith_traceback\u001b[0m\u001b[0;34m(\u001b[0m\u001b[0mfiltered_tb\u001b[0m\u001b[0;34m)\u001b[0m \u001b[0;32mfrom\u001b[0m \u001b[0;32mNone\u001b[0m\u001b[0;34m\u001b[0m\u001b[0;34m\u001b[0m\u001b[0m\n\u001b[0m\u001b[1;32m     68\u001b[0m     \u001b[0;32mfinally\u001b[0m\u001b[0;34m:\u001b[0m\u001b[0;34m\u001b[0m\u001b[0;34m\u001b[0m\u001b[0m\n\u001b[1;32m     69\u001b[0m       \u001b[0;32mdel\u001b[0m \u001b[0mfiltered_tb\u001b[0m\u001b[0;34m\u001b[0m\u001b[0;34m\u001b[0m\u001b[0m\n",
            "\u001b[0;32m/usr/local/lib/python3.7/dist-packages/tensorflow/python/eager/execute.py\u001b[0m in \u001b[0;36mquick_execute\u001b[0;34m(op_name, num_outputs, inputs, attrs, ctx, name)\u001b[0m\n\u001b[1;32m     53\u001b[0m     \u001b[0mctx\u001b[0m\u001b[0;34m.\u001b[0m\u001b[0mensure_initialized\u001b[0m\u001b[0;34m(\u001b[0m\u001b[0;34m)\u001b[0m\u001b[0;34m\u001b[0m\u001b[0;34m\u001b[0m\u001b[0m\n\u001b[1;32m     54\u001b[0m     tensors = pywrap_tfe.TFE_Py_Execute(ctx._handle, device_name, op_name,\n\u001b[0;32m---> 55\u001b[0;31m                                         inputs, attrs, num_outputs)\n\u001b[0m\u001b[1;32m     56\u001b[0m   \u001b[0;32mexcept\u001b[0m \u001b[0mcore\u001b[0m\u001b[0;34m.\u001b[0m\u001b[0m_NotOkStatusException\u001b[0m \u001b[0;32mas\u001b[0m \u001b[0me\u001b[0m\u001b[0;34m:\u001b[0m\u001b[0;34m\u001b[0m\u001b[0;34m\u001b[0m\u001b[0m\n\u001b[1;32m     57\u001b[0m     \u001b[0;32mif\u001b[0m \u001b[0mname\u001b[0m \u001b[0;32mis\u001b[0m \u001b[0;32mnot\u001b[0m \u001b[0;32mNone\u001b[0m\u001b[0;34m:\u001b[0m\u001b[0;34m\u001b[0m\u001b[0;34m\u001b[0m\u001b[0m\n",
            "\u001b[0;31mResourceExhaustedError\u001b[0m: Graph execution error:\n\nDetected at node 'model/tf_longformer_model_1/longformer/encoder/layer_._9/attention/self/Roll' defined at (most recent call last):\n    File \"/usr/lib/python3.7/runpy.py\", line 193, in _run_module_as_main\n      \"__main__\", mod_spec)\n    File \"/usr/lib/python3.7/runpy.py\", line 85, in _run_code\n      exec(code, run_globals)\n    File \"/usr/local/lib/python3.7/dist-packages/ipykernel_launcher.py\", line 16, in <module>\n      app.launch_new_instance()\n    File \"/usr/local/lib/python3.7/dist-packages/traitlets/config/application.py\", line 846, in launch_instance\n      app.start()\n    File \"/usr/local/lib/python3.7/dist-packages/ipykernel/kernelapp.py\", line 499, in start\n      self.io_loop.start()\n    File \"/usr/local/lib/python3.7/dist-packages/tornado/platform/asyncio.py\", line 132, in start\n      self.asyncio_loop.run_forever()\n    File \"/usr/lib/python3.7/asyncio/base_events.py\", line 541, in run_forever\n      self._run_once()\n    File \"/usr/lib/python3.7/asyncio/base_events.py\", line 1786, in _run_once\n      handle._run()\n    File \"/usr/lib/python3.7/asyncio/events.py\", line 88, in _run\n      self._context.run(self._callback, *self._args)\n    File \"/usr/local/lib/python3.7/dist-packages/tornado/ioloop.py\", line 758, in _run_callback\n      ret = callback()\n    File \"/usr/local/lib/python3.7/dist-packages/tornado/stack_context.py\", line 300, in null_wrapper\n      return fn(*args, **kwargs)\n    File \"/usr/local/lib/python3.7/dist-packages/zmq/eventloop/zmqstream.py\", line 536, in <lambda>\n      self.io_loop.add_callback(lambda: self._handle_events(self.socket, 0))\n    File \"/usr/local/lib/python3.7/dist-packages/zmq/eventloop/zmqstream.py\", line 452, in _handle_events\n      self._handle_recv()\n    File \"/usr/local/lib/python3.7/dist-packages/zmq/eventloop/zmqstream.py\", line 481, in _handle_recv\n      self._run_callback(callback, msg)\n    File \"/usr/local/lib/python3.7/dist-packages/zmq/eventloop/zmqstream.py\", line 431, in _run_callback\n      callback(*args, **kwargs)\n    File \"/usr/local/lib/python3.7/dist-packages/tornado/stack_context.py\", line 300, in null_wrapper\n      return fn(*args, **kwargs)\n    File \"/usr/local/lib/python3.7/dist-packages/ipykernel/kernelbase.py\", line 283, in dispatcher\n      return self.dispatch_shell(stream, msg)\n    File \"/usr/local/lib/python3.7/dist-packages/ipykernel/kernelbase.py\", line 233, in dispatch_shell\n      handler(stream, idents, msg)\n    File \"/usr/local/lib/python3.7/dist-packages/ipykernel/kernelbase.py\", line 399, in execute_request\n      user_expressions, allow_stdin)\n    File \"/usr/local/lib/python3.7/dist-packages/ipykernel/ipkernel.py\", line 208, in do_execute\n      res = shell.run_cell(code, store_history=store_history, silent=silent)\n    File \"/usr/local/lib/python3.7/dist-packages/ipykernel/zmqshell.py\", line 537, in run_cell\n      return super(ZMQInteractiveShell, self).run_cell(*args, **kwargs)\n    File \"/usr/local/lib/python3.7/dist-packages/IPython/core/interactiveshell.py\", line 2718, in run_cell\n      interactivity=interactivity, compiler=compiler, result=result)\n    File \"/usr/local/lib/python3.7/dist-packages/IPython/core/interactiveshell.py\", line 2822, in run_ast_nodes\n      if self.run_code(code, result):\n    File \"/usr/local/lib/python3.7/dist-packages/IPython/core/interactiveshell.py\", line 2882, in run_code\n      exec(code_obj, self.user_global_ns, self.user_ns)\n    File \"<ipython-input-21-4ab6815da8e8>\", line 9, in <module>\n      verbose = 2)\n    File \"/usr/local/lib/python3.7/dist-packages/keras/utils/traceback_utils.py\", line 64, in error_handler\n      return fn(*args, **kwargs)\n    File \"/usr/local/lib/python3.7/dist-packages/keras/engine/training.py\", line 1384, in fit\n      tmp_logs = self.train_function(iterator)\n    File \"/usr/local/lib/python3.7/dist-packages/keras/engine/training.py\", line 1021, in train_function\n      return step_function(self, iterator)\n    File \"/usr/local/lib/python3.7/dist-packages/keras/engine/training.py\", line 1010, in step_function\n      outputs = model.distribute_strategy.run(run_step, args=(data,))\n    File \"/usr/local/lib/python3.7/dist-packages/keras/engine/training.py\", line 1000, in run_step\n      outputs = model.train_step(data)\n    File \"/usr/local/lib/python3.7/dist-packages/keras/engine/training.py\", line 859, in train_step\n      y_pred = self(x, training=True)\n    File \"/usr/local/lib/python3.7/dist-packages/keras/utils/traceback_utils.py\", line 64, in error_handler\n      return fn(*args, **kwargs)\n    File \"/usr/local/lib/python3.7/dist-packages/keras/engine/base_layer.py\", line 1096, in __call__\n      outputs = call_fn(inputs, *args, **kwargs)\n    File \"/usr/local/lib/python3.7/dist-packages/keras/utils/traceback_utils.py\", line 92, in error_handler\n      return fn(*args, **kwargs)\n    File \"/usr/local/lib/python3.7/dist-packages/keras/engine/functional.py\", line 452, in call\n      inputs, training=training, mask=mask)\n    File \"/usr/local/lib/python3.7/dist-packages/keras/engine/functional.py\", line 589, in _run_internal_graph\n      outputs = node.layer(*args, **kwargs)\n    File \"/usr/local/lib/python3.7/dist-packages/keras/utils/traceback_utils.py\", line 64, in error_handler\n      return fn(*args, **kwargs)\n    File \"/usr/local/lib/python3.7/dist-packages/keras/engine/base_layer.py\", line 1096, in __call__\n      outputs = call_fn(inputs, *args, **kwargs)\n    File \"/usr/local/lib/python3.7/dist-packages/keras/utils/traceback_utils.py\", line 92, in error_handler\n      return fn(*args, **kwargs)\n    File \"/usr/local/lib/python3.7/dist-packages/transformers/models/longformer/modeling_tf_longformer.py\", line 2051, in call\n      outputs = self.longformer(\n    File \"/usr/local/lib/python3.7/dist-packages/keras/utils/traceback_utils.py\", line 64, in error_handler\n      return fn(*args, **kwargs)\n    File \"/usr/local/lib/python3.7/dist-packages/keras/engine/base_layer.py\", line 1096, in __call__\n      outputs = call_fn(inputs, *args, **kwargs)\n    File \"/usr/local/lib/python3.7/dist-packages/keras/utils/traceback_utils.py\", line 92, in error_handler\n      return fn(*args, **kwargs)\n    File \"/usr/local/lib/python3.7/dist-packages/transformers/models/longformer/modeling_tf_longformer.py\", line 1746, in call\n      encoder_outputs = self.encoder(\n    File \"/usr/local/lib/python3.7/dist-packages/keras/utils/traceback_utils.py\", line 64, in error_handler\n      return fn(*args, **kwargs)\n    File \"/usr/local/lib/python3.7/dist-packages/keras/engine/base_layer.py\", line 1096, in __call__\n      outputs = call_fn(inputs, *args, **kwargs)\n    File \"/usr/local/lib/python3.7/dist-packages/keras/utils/traceback_utils.py\", line 92, in error_handler\n      return fn(*args, **kwargs)\n    File \"/usr/local/lib/python3.7/dist-packages/transformers/models/longformer/modeling_tf_longformer.py\", line 1563, in call\n      for idx, layer_module in enumerate(self.layer):\n    File \"/usr/local/lib/python3.7/dist-packages/transformers/models/longformer/modeling_tf_longformer.py\", line 1568, in call\n      layer_outputs = layer_module(\n    File \"/usr/local/lib/python3.7/dist-packages/keras/utils/traceback_utils.py\", line 64, in error_handler\n      return fn(*args, **kwargs)\n    File \"/usr/local/lib/python3.7/dist-packages/keras/engine/base_layer.py\", line 1096, in __call__\n      outputs = call_fn(inputs, *args, **kwargs)\n    File \"/usr/local/lib/python3.7/dist-packages/keras/utils/traceback_utils.py\", line 92, in error_handler\n      return fn(*args, **kwargs)\n    File \"/usr/local/lib/python3.7/dist-packages/transformers/models/longformer/modeling_tf_longformer.py\", line 1526, in call\n      attention_outputs = self.attention(\n    File \"/usr/local/lib/python3.7/dist-packages/keras/utils/traceback_utils.py\", line 64, in error_handler\n      return fn(*args, **kwargs)\n    File \"/usr/local/lib/python3.7/dist-packages/keras/engine/base_layer.py\", line 1096, in __call__\n      outputs = call_fn(inputs, *args, **kwargs)\n    File \"/usr/local/lib/python3.7/dist-packages/keras/utils/traceback_utils.py\", line 92, in error_handler\n      return fn(*args, **kwargs)\n    File \"/usr/local/lib/python3.7/dist-packages/transformers/models/longformer/modeling_tf_longformer.py\", line 1498, in call\n      self_outputs = self.self_attention(\n    File \"/usr/local/lib/python3.7/dist-packages/keras/utils/traceback_utils.py\", line 64, in error_handler\n      return fn(*args, **kwargs)\n    File \"/usr/local/lib/python3.7/dist-packages/keras/engine/base_layer.py\", line 1096, in __call__\n      outputs = call_fn(inputs, *args, **kwargs)\n    File \"/usr/local/lib/python3.7/dist-packages/keras/utils/traceback_utils.py\", line 92, in error_handler\n      return fn(*args, **kwargs)\n    File \"/usr/local/lib/python3.7/dist-packages/transformers/models/longformer/modeling_tf_longformer.py\", line 754, in call\n      attn_scores = self._sliding_chunks_query_key_matmul(\n    File \"/usr/local/lib/python3.7/dist-packages/transformers/models/longformer/modeling_tf_longformer.py\", line 970, in _sliding_chunks_query_key_matmul\n      diagonal_attn_scores_first_chunk = tf.concat(\nNode: 'model/tf_longformer_model_1/longformer/encoder/layer_._9/attention/self/Roll'\nOOM when allocating tensor with shape[48,3,512,513] and type float on /job:localhost/replica:0/task:0/device:GPU:0 by allocator GPU_0_bfc\n\t [[{{node model/tf_longformer_model_1/longformer/encoder/layer_._9/attention/self/Roll}}]]\nHint: If you want to see a list of allocated tensors when OOM happens, add report_tensor_allocations_upon_oom to RunOptions for current allocation info. This isn't available when running in Eager mode.\n [Op:__inference_train_function_156106]"
          ]
        }
      ]
    },
    {
      "cell_type": "code",
      "source": [
        ""
      ],
      "metadata": {
        "id": "XNjMwiir-NBt"
      },
      "execution_count": null,
      "outputs": []
    }
  ]
}